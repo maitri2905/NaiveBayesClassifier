{
  "nbformat": 4,
  "nbformat_minor": 0,
  "metadata": {
    "colab": {
      "name": "Naive_Bayes_Classifier.ipynb",
      "provenance": [],
      "collapsed_sections": [],
      "authorship_tag": "ABX9TyO3/XK/dop+vBlzZ6Oj5bgJ",
      "include_colab_link": true
    },
    "kernelspec": {
      "name": "python3",
      "display_name": "Python 3"
    },
    "language_info": {
      "name": "python"
    }
  },
  "cells": [
    {
      "cell_type": "markdown",
      "metadata": {
        "id": "view-in-github",
        "colab_type": "text"
      },
      "source": [
        "<a href=\"https://colab.research.google.com/github/maitri2905/NaiveBayesClassifier/blob/main/Naive_Bayes_Classifier.ipynb\" target=\"_parent\"><img src=\"https://colab.research.google.com/assets/colab-badge.svg\" alt=\"Open In Colab\"/></a>"
      ]
    },
    {
      "cell_type": "markdown",
      "metadata": {
        "id": "xFjVIkHtHzb6"
      },
      "source": [
        "Name : Maitri Nilesh Patel</br>\n",
        "UTA ID: 1001716017</br>\n",
        "Assignment 03 </br>\n"
      ]
    },
    {
      "cell_type": "markdown",
      "metadata": {
        "id": "1mv4lCH4ILK_"
      },
      "source": [
        "# Importing Dataset for Movie Review </br>\n",
        "***Here I have imported yelp Dataset from Kaggle Sentiment labelled Dataset</br>***\n"
      ]
    },
    {
      "cell_type": "code",
      "metadata": {
        "colab": {
          "base_uri": "https://localhost:8080/"
        },
        "id": "H14O7n-CKAFI",
        "outputId": "a9b90cf6-53b9-4880-c2e5-9b9d4d3b4fda"
      },
      "source": [
        "from google.colab import drive\n",
        "drive.mount('/content/gdrive')"
      ],
      "execution_count": 1169,
      "outputs": [
        {
          "output_type": "stream",
          "text": [
            "Drive already mounted at /content/gdrive; to attempt to forcibly remount, call drive.mount(\"/content/gdrive\", force_remount=True).\n"
          ],
          "name": "stdout"
        }
      ]
    },
    {
      "cell_type": "code",
      "metadata": {
        "colab": {
          "base_uri": "https://localhost:8080/",
          "height": 198
        },
        "id": "-XIaHkOVKt3J",
        "outputId": "33ae43b5-69e1-4c84-ca82-6fb7e00b2ab3"
      },
      "source": [
        "import pandas as pd\n",
        "import matplotlib.pyplot as plt\n",
        "\n",
        "Data = pd.read_csv('/content/gdrive/My Drive/Dataset/yelp_labelled.txt', delimiter='\\t', header=None, names= ['Reviews', 'Sentiments'])\n",
        "Data.head()"
      ],
      "execution_count": 1170,
      "outputs": [
        {
          "output_type": "execute_result",
          "data": {
            "text/html": [
              "<div>\n",
              "<style scoped>\n",
              "    .dataframe tbody tr th:only-of-type {\n",
              "        vertical-align: middle;\n",
              "    }\n",
              "\n",
              "    .dataframe tbody tr th {\n",
              "        vertical-align: top;\n",
              "    }\n",
              "\n",
              "    .dataframe thead th {\n",
              "        text-align: right;\n",
              "    }\n",
              "</style>\n",
              "<table border=\"1\" class=\"dataframe\">\n",
              "  <thead>\n",
              "    <tr style=\"text-align: right;\">\n",
              "      <th></th>\n",
              "      <th>Reviews</th>\n",
              "      <th>Sentiments</th>\n",
              "    </tr>\n",
              "  </thead>\n",
              "  <tbody>\n",
              "    <tr>\n",
              "      <th>0</th>\n",
              "      <td>Wow... Loved this place.</td>\n",
              "      <td>1</td>\n",
              "    </tr>\n",
              "    <tr>\n",
              "      <th>1</th>\n",
              "      <td>Crust is not good.</td>\n",
              "      <td>0</td>\n",
              "    </tr>\n",
              "    <tr>\n",
              "      <th>2</th>\n",
              "      <td>Not tasty and the texture was just nasty.</td>\n",
              "      <td>0</td>\n",
              "    </tr>\n",
              "    <tr>\n",
              "      <th>3</th>\n",
              "      <td>Stopped by during the late May bank holiday of...</td>\n",
              "      <td>1</td>\n",
              "    </tr>\n",
              "    <tr>\n",
              "      <th>4</th>\n",
              "      <td>The selection on the menu was great and so wer...</td>\n",
              "      <td>1</td>\n",
              "    </tr>\n",
              "  </tbody>\n",
              "</table>\n",
              "</div>"
            ],
            "text/plain": [
              "                                             Reviews  Sentiments\n",
              "0                           Wow... Loved this place.           1\n",
              "1                                 Crust is not good.           0\n",
              "2          Not tasty and the texture was just nasty.           0\n",
              "3  Stopped by during the late May bank holiday of...           1\n",
              "4  The selection on the menu was great and so wer...           1"
            ]
          },
          "metadata": {
            "tags": []
          },
          "execution_count": 1170
        }
      ]
    },
    {
      "cell_type": "code",
      "metadata": {
        "colab": {
          "base_uri": "https://localhost:8080/"
        },
        "id": "o15HD2JvMxm5",
        "outputId": "bc950aaa-31cd-4579-ddf3-0416bc6c5087"
      },
      "source": [
        "Data.info()"
      ],
      "execution_count": 1171,
      "outputs": [
        {
          "output_type": "stream",
          "text": [
            "<class 'pandas.core.frame.DataFrame'>\n",
            "RangeIndex: 1000 entries, 0 to 999\n",
            "Data columns (total 2 columns):\n",
            " #   Column      Non-Null Count  Dtype \n",
            "---  ------      --------------  ----- \n",
            " 0   Reviews     1000 non-null   object\n",
            " 1   Sentiments  1000 non-null   int64 \n",
            "dtypes: int64(1), object(1)\n",
            "memory usage: 15.8+ KB\n"
          ],
          "name": "stdout"
        }
      ]
    },
    {
      "cell_type": "code",
      "metadata": {
        "colab": {
          "base_uri": "https://localhost:8080/"
        },
        "id": "cJbF_zfoNFUs",
        "outputId": "14f45c5c-4d4c-448b-ad50-be1213d55b1f"
      },
      "source": [
        "Data.isnull().sum()"
      ],
      "execution_count": 1172,
      "outputs": [
        {
          "output_type": "execute_result",
          "data": {
            "text/plain": [
              "Reviews       0\n",
              "Sentiments    0\n",
              "dtype: int64"
            ]
          },
          "metadata": {
            "tags": []
          },
          "execution_count": 1172
        }
      ]
    },
    {
      "cell_type": "code",
      "metadata": {
        "id": "x7pEP779U60E"
      },
      "source": [
        "Data = pd.DataFrame(Data)"
      ],
      "execution_count": 1173,
      "outputs": []
    },
    {
      "cell_type": "code",
      "metadata": {
        "id": "HUDlu6cxNYzL"
      },
      "source": [
        "import os\n",
        "import numpy as np\n",
        "from pandas import Series\n",
        "import re \n",
        "from sys import path\n",
        "from collections import Counter"
      ],
      "execution_count": 1174,
      "outputs": []
    },
    {
      "cell_type": "code",
      "metadata": {
        "colab": {
          "base_uri": "https://localhost:8080/"
        },
        "id": "wG-Gys7-NN9T",
        "outputId": "5c0e8a5e-f94f-4c9b-d698-33a7ab05d3da"
      },
      "source": [
        "Data.Sentiments.value_counts()"
      ],
      "execution_count": 1175,
      "outputs": [
        {
          "output_type": "execute_result",
          "data": {
            "text/plain": [
              "1    500\n",
              "0    500\n",
              "Name: Sentiments, dtype: int64"
            ]
          },
          "metadata": {
            "tags": []
          },
          "execution_count": 1175
        }
      ]
    },
    {
      "cell_type": "markdown",
      "metadata": {
        "id": "-hw_dFtIIeUg"
      },
      "source": [
        "# **A) Divide the Dataset as Training and Development Data.</br>**\n",
        "# #Here I have divided data in the ratio of 76:24 as Train and Development.</br>\n"
      ]
    },
    {
      "cell_type": "code",
      "metadata": {
        "colab": {
          "base_uri": "https://localhost:8080/"
        },
        "id": "TOmlqyY1N5_5",
        "outputId": "6f568d22-30de-4e79-f3d4-bf1d0aef6be8"
      },
      "source": [
        "shuffle = Data.sample(frac=1).to_numpy()\n",
        "Datasize = int(0.76 * len(Data))\n",
        "Training_Dataset = shuffle[:Datasize]\n",
        "Dev_Dataset = shuffle[Datasize:]\n",
        "print(Training_Dataset)\n",
        "print(Dev_Dataset)"
      ],
      "execution_count": 1176,
      "outputs": [
        {
          "output_type": "stream",
          "text": [
            "[[\"I don't think I'll be running back to Carly's anytime soon for food.\"\n",
            "  0]\n",
            " ['Great food.' 1]\n",
            " ['the spaghetti is nothing special whatsoever.' 0]\n",
            " ...\n",
            " ['The waitresses are very friendly.' 1]\n",
            " [\"I mean really, how do you get so famous for your fish and chips when it's so terrible!?!\"\n",
            "  0]\n",
            " ['Both of the egg rolls were fantastic.' 1]]\n",
            "[['Went in for happy hour, great list of wines.' 1]\n",
            " ['We were promptly greeted and seated.' 1]\n",
            " ['The Heart Attack Grill in downtown Vegas is an absolutely flat-lined excuse for a restaurant.'\n",
            "  0]\n",
            " ['I dont think I will be back for a very long time.' 0]\n",
            " ['Not tasty and the texture was just nasty.' 0]\n",
            " ['The real disappointment was our waiter.' 0]\n",
            " ['Sooooo good!!' 1]\n",
            " ['I got home to see the driest damn wings ever!' 0]\n",
            " ['Weird vibe from owners.' 0]\n",
            " ['Will not be back.' 0]\n",
            " ['The staff is always super friendly and helpful, which is especially cool when you bring two small boys and a baby!'\n",
            "  1]\n",
            " ['Food quality has been horrible.' 0]\n",
            " ['Service was exceptional and food was a good as all the reviews.' 1]\n",
            " ['She was quite disappointed although some blame needs to be placed at her door.'\n",
            "  0]\n",
            " ['The food came out at a good pace.' 1]\n",
            " [\"Point your finger at any item on the menu, order it and you won't be disappointed.\"\n",
            "  1]\n",
            " [\"But I don't like it.\" 0]\n",
            " ['First time going but I think I will quickly become a regular.' 1]\n",
            " [\"We won't be going back.\" 0]\n",
            " ['Interesting decor.' 1]\n",
            " [\"The food wasn't good.\" 0]\n",
            " ['will definitely be back!' 1]\n",
            " ['But now I was completely grossed out.' 0]\n",
            " ['This place is not quality sushi, it is not a quality restaurant.' 0]\n",
            " ['The black eyed peas and sweet potatoes... UNREAL!' 1]\n",
            " ['Have been going since 2007 and every meal has been awesome!!' 1]\n",
            " ['She ordered a toasted English muffin that came out untoasted.' 0]\n",
            " ['Food was really good and I got full petty fast.' 1]\n",
            " ['A FLY was in my apple juice.. A FLY!!!!!!!!' 0]\n",
            " ['It was so bad, I had lost the heart to finish it.' 0]\n",
            " ['Terrible service!' 0]\n",
            " ['By far the BEST cheesecurds we have ever had!' 1]\n",
            " ['Always a pleasure dealing with him.' 1]\n",
            " [\"I'm not sure how long we stood there but it was long enough for me to begin to feel awkwardly out of place.\"\n",
            "  0]\n",
            " ['The management is rude.' 0]\n",
            " ['The RI style calamari was a joke.' 0]\n",
            " ['Your staff spends more time talking to themselves than me.' 0]\n",
            " [\"I just don't know how this place managed to served the blandest food I have ever eaten when they are preparing Indian cuisine.\"\n",
            "  0]\n",
            " ['Special thanks to Dylan T. for the recommendation on what to order :) All yummy for my tummy.'\n",
            "  1]\n",
            " ['We recently witnessed her poor quality of management towards other guests as well.'\n",
            "  0]\n",
            " ['My wife had the Lobster Bisque soup which was lukewarm.' 0]\n",
            " [\"Worst food/service I've had in a while.\" 0]\n",
            " ['They could serve it with just the vinaigrette and it may make for a better overall dish, but it was still very good.'\n",
            "  1]\n",
            " ['But then they came back cold.' 0]\n",
            " [\"Main thing I didn't enjoy is that the crowd is of older crowd, around mid 30s and up.\"\n",
            "  0]\n",
            " ['For a self proclaimed coffee cafe, I was wildly disappointed.' 0]\n",
            " ['Would come back again if I had a sushi craving while in Vegas.' 1]\n",
            " ['The chips and salsa were really good, the salsa was very fresh.' 1]\n",
            " [\"I go to far too many places and I've never seen any restaurant that serves a 1 egg breakfast, especially for $4.00.\"\n",
            "  0]\n",
            " [\"I recently tried Caballero's and I have been back every week since!\" 1]\n",
            " ['I miss it and wish they had one in Philadelphia!' 1]\n",
            " [\"It really is impressive that the place hasn't closed down.\" 0]\n",
            " ['The service was terrible though.' 0]\n",
            " ['At first glance it is a lovely bakery cafe - nice ambiance, clean, friendly staff.'\n",
            "  1]\n",
            " ['Never again will I be dining at this place!' 0]\n",
            " ['The nachos are a MUST HAVE!' 1]\n",
            " ['I have eaten here multiple times, and each time the food was delicious.'\n",
            "  1]\n",
            " [\"The place was fairly clean but the food simply wasn't worth it.\" 0]\n",
            " ['OMG I felt like I had never eaten Thai food until this dish.' 1]\n",
            " [\"By this point, my friends and I had basically figured out this place was a joke and didn't mind making it publicly and loudly known.\"\n",
            "  0]\n",
            " ['They really want to make your experience a good one.' 1]\n",
            " ['The first time I ever came here I had an amazing experience, I still tell people how awesome the duck was.'\n",
            "  1]\n",
            " ['Four stars for the food & the guy in the blue shirt for his great vibe & still letting us in to eat !'\n",
            "  1]\n",
            " ['I hate those things as much as cheap quality black olives.' 0]\n",
            " ['Waitress was a little slow in service.' 0]\n",
            " ['Wonderful lil tapas and the ambience made me feel all warm and fuzzy inside.'\n",
            "  1]\n",
            " ['We waited for forty five minutes in vain.' 0]\n",
            " [\"Once you get inside you'll be impressed with the place.\" 1]\n",
            " [\"Definitely worth venturing off the strip for the pork belly, will return next time I'm in Vegas.\"\n",
            "  1]\n",
            " ['Their regular toasted bread was equally satisfying with the occasional pats of butter... Mmmm...!'\n",
            "  1]\n",
            " ['dont go here.' 0]\n",
            " ['The decor is nice, and the piano music soundtrack is pleasant.' 1]\n",
            " ['Our waiter was very attentive, friendly, and informative.' 1]\n",
            " [\"Furthermore, you can't even find hours of operation on the website!\" 0]\n",
            " ['AN HOUR... seriously?' 0]\n",
            " [\"The building itself seems pretty neat; the bathroom is pretty trippy, but I wouldn't eat here again.\"\n",
            "  0]\n",
            " ['I *heart* this place.' 1]\n",
            " ['This place is hands-down one of the best places to eat in the Phoenix metro area.'\n",
            "  1]\n",
            " ['Great Pizza and Salads!' 1]\n",
            " ['They have great dinners.' 1]\n",
            " ['For service, I give them no stars.' 0]\n",
            " ['The buffet is small and all the food they offered was BLAND.' 0]\n",
            " ['Im in AZ all the time and now have my new spot.' 1]\n",
            " ['I have watched their prices inflate, portions get smaller and management attitudes grow rapidly!'\n",
            "  0]\n",
            " ['I guess maybe we went on an off night but it was disgraceful.' 0]\n",
            " ['The classic Maine Lobster Roll was fantastic.' 1]\n",
            " ['This place is overpriced, not consistent with their boba, and it really is OVERPRICED!'\n",
            "  0]\n",
            " ['I had high hopes for this place since the burgers are cooked over a charcoal grill, but unfortunately the taste fell flat, way flat.'\n",
            "  0]\n",
            " [\"Based on the sub-par service I received and no effort to show their gratitude for my business I won't be going back.\"\n",
            "  0]\n",
            " ['So in a nutshell: 1) The restaraunt smells like a combination of a dirty fish market and a sewer.'\n",
            "  0]\n",
            " ['The service was not up to par, either.' 0]\n",
            " ['I think food should have flavor and texture and both were lacking.' 0]\n",
            " ['I took back my money and got outta there.' 0]\n",
            " ['Great food and great service in a clean and friendly setting.' 1]\n",
            " ['Service is friendly and inviting.' 1]\n",
            " ['This was like the final blow!' 0]\n",
            " ['Not good by any stretch of the imagination.' 0]\n",
            " ['Good Service-check!' 1]\n",
            " [\"The warm beer didn't help.\" 0]\n",
            " ['say bye bye to your tip lady!' 0]\n",
            " [\"They will customize your order any way you'd like, my usual is Eggplant with Green Bean stir fry, love it!\"\n",
            "  1]\n",
            " ['A fantastic neighborhood gem !!!' 1]\n",
            " ['I will not return.' 0]\n",
            " ['If you stay in Vegas you must get breakfast here at least once.' 1]\n",
            " [\"I'm probably one of the few people to ever go to Ians and not like it.\"\n",
            "  0]\n",
            " ['We had fantastic service, and were pleased by the atmosphere.' 1]\n",
            " [\"This isn't a small family restaurant, this is a fine dining establishment.\"\n",
            "  1]\n",
            " ['Much better than the other AYCE sushi place I went to in Vegas.' 1]\n",
            " [\"I'll take my business dinner dollars elsewhere.\" 0]\n",
            " ['The food was delicious, our bartender was attentive and personable AND we got a great deal!'\n",
            "  1]\n",
            " [\"I personally love the hummus, pita, baklava, falafels and Baba Ganoush (it's amazing what they do with eggplant!).\"\n",
            "  1]\n",
            " ['The block was amazing.' 1]\n",
            " ['I ate there twice on my last visit, and especially enjoyed the salmon salad.'\n",
            "  1]\n",
            " ['Our server was fantastic and when he found out the wife loves roasted garlic and bone marrow, he added extra to our meal and another marrow to go!'\n",
            "  1]\n",
            " [\"Overall, I don't think that I would take my parents to this place again because they made most of the similar complaints that I silently felt too.\"\n",
            "  0]\n",
            " ['We sat another ten minutes and finally gave up and left.' 0]\n",
            " ['The crêpe was delicate and thin and moist.' 1]\n",
            " ['It was way over fried.' 0]\n",
            " ['The problem I have is that they charge $11.99 for a sandwich that is no bigger than a Subway sub (which offers better and more amount of vegetables).'\n",
            "  0]\n",
            " ['Some highlights : Great quality nigiri here!' 1]\n",
            " ['The vegetables are so fresh and the sauce feels like authentic Thai.'\n",
            "  1]\n",
            " ['I hope this place sticks around.' 1]\n",
            " ['Will go back next trip out.' 1]\n",
            " ['It was not good.' 0]\n",
            " ['Service was slow and not attentive.' 0]\n",
            " [\"I didn't know pulled pork could be soooo delicious.\" 1]\n",
            " ['Best breakfast buffet!!!' 1]\n",
            " [\"The whole experience was underwhelming, and I think we'll just go to Ninja Sushi next time.\"\n",
            "  0]\n",
            " ['Delicious NYC bagels, good selections of cream cheese, real Lox with capers even.'\n",
            "  1]\n",
            " ['The sangria was about half of a glass wine full and was $12, ridiculous.'\n",
            "  0]\n",
            " ['Also there are combos like a burger, fries, and beer for 23 which is a decent deal.'\n",
            "  1]\n",
            " ['The food was barely lukewarm, so it must have been sitting waiting for the server to bring it out to us.'\n",
            "  0]\n",
            " ['They have a good selection of food including a massive meatloaf sandwich, a crispy chicken wrap, a delish tuna melt and some tasty burgers.'\n",
            "  1]\n",
            " ['The seasonal fruit was fresh white peach puree.' 1]\n",
            " ['Talk about great customer service of course we will be back.' 1]\n",
            " ['There is really nothing for me at postinos, hope your experience is better'\n",
            "  0]\n",
            " ['Nothing special.' 0]\n",
            " ['I would definitely recommend the wings as well as the pizza.' 1]\n",
            " ['All of the tapas dishes were delicious!' 1]\n",
            " [\"I'm not impressed with the concept or the food.\" 0]\n",
            " ['Food was good, service was good, Prices were good.' 1]\n",
            " ['We got sitting fairly fast, but, ended up waiting 40 minutes just to place our order, another 30 minutes before the food arrived.'\n",
            "  0]\n",
            " ['I give it 2 thumbs down' 0]\n",
            " ['The chicken I got was definitely reheated and was only ok, the wedges were cold and soggy.'\n",
            "  0]\n",
            " ['The service was terrible, food was mediocre.' 0]\n",
            " ['This place is two thumbs up....way up.' 1]\n",
            " ['Great food and awesome service!' 1]\n",
            " ['Worst martini ever!' 0]\n",
            " ['The food was very good and I enjoyed every mouthful, an enjoyable relaxed venue for couples small family groups etc.'\n",
            "  1]\n",
            " ['My boyfriend and I came here for the first time on a recent trip to Vegas and could not have been more pleased with the quality of food and service.'\n",
            "  1]\n",
            " ['Bacon is hella salty.' 1]\n",
            " [\"We've have gotten a much better service from the pizza place next door than the services we received from this restaurant.\"\n",
            "  0]\n",
            " ['This place is great!!!!!!!!!!!!!!' 1]\n",
            " ['The food is very good for your typical bar food.' 1]\n",
            " ['When my mom and I got home she immediately got sick and she only had a few bites of salad.'\n",
            "  0]\n",
            " ['Good beer & drink selection and good food selection.' 1]\n",
            " ['After two I felt disgusting.' 0]\n",
            " [\"I like Steiners because it's dark and it feels like a bar.\" 1]\n",
            " ['What a mistake.' 0]\n",
            " ['In the summer, you can dine in a charming outdoor patio - so very delightful.'\n",
            "  1]\n",
            " ['The yellowtail carpaccio was melt in your mouth fresh.' 1]\n",
            " ['What did bother me, was the slow service.' 0]\n",
            " ['I liked the patio and the service was outstanding.' 1]\n",
            " ['I LOVED it!' 1]\n",
            " ['The bathrooms are clean and the place itself is well decorated.' 1]\n",
            " ['The steaks are all well trimmed and also perfectly cooked.' 1]\n",
            " ['This place has it!' 1]\n",
            " ['And the beans and rice were mediocre at best.' 0]\n",
            " ['Last night was my second time dining here and I was so happy I decided to go back!'\n",
            "  1]\n",
            " ['Del Taco is pretty nasty and should be avoided if possible.' 0]\n",
            " [\"And considering the two of us left there very full and happy for about $20, you just can't go wrong.\"\n",
            "  1]\n",
            " ['Overpriced for what you are getting.' 0]\n",
            " ['Service was very prompt.' 1]\n",
            " ['It was attached to a gas station, and that is rarely a good sign.' 0]\n",
            " ['I would not recommend this place.' 0]\n",
            " ['WILL NEVER EVER GO BACK AND HAVE TOLD MANY PEOPLE WHAT HAD HAPPENED.'\n",
            "  0]\n",
            " ['Everyone is very attentive, providing excellent customer service.' 1]\n",
            " [\"If you haven't gone here GO NOW!\" 1]\n",
            " ['a drive thru means you do not want to wait around for half an hour for your food, but somehow when we end up going here they make us wait and wait.'\n",
            "  0]\n",
            " ['I just wanted to leave.' 0]\n",
            " ['Service stinks here!' 0]\n",
            " ['Despite how hard I rate businesses, its actually rare for me to give a 1 star.'\n",
            "  0]\n",
            " [\"Friend's pasta -- also bad, he barely touched it.\" 0]\n",
            " ['Also, I feel like the chips are bought, not made in house.' 0]\n",
            " [\"The plantains were the worst I've ever tasted.\" 0]\n",
            " ['Soggy and not good.' 0]\n",
            " ['Penne vodka excellent!' 1]\n",
            " ['The service was meh.' 0]\n",
            " ['I loved the grilled pizza, reminded me of legit Italian pizza.' 1]\n",
            " [\"I wouldn't return.\" 0]\n",
            " ['On the up side, their cafe serves really good food.' 1]\n",
            " ['I know this is not like the other restaurants at all, something is very off here!'\n",
            "  0]\n",
            " ['Wow... Loved this place.' 1]\n",
            " ['This is a great restaurant at the Mandalay Bay.' 1]\n",
            " ['Extremely Tasty!' 1]\n",
            " ['The menu had so much good stuff on it i could not decide!' 1]\n",
            " ['After 20 minutes wait, I got a table.' 0]\n",
            " ['Never had anything to complain about here.' 1]\n",
            " [\"Needless to say, I won't be going back anytime soon.\" 0]\n",
            " ['This place lacked style!!' 0]\n",
            " ['As always the evening was wonderful and the food delicious!' 1]\n",
            " ['Join the club and get awesome offers via email.' 1]\n",
            " ['My friend loved the salmon tartar.' 1]\n",
            " ['Nice ambiance.' 1]\n",
            " ['The fries were not hot, and neither was my burger.' 0]\n",
            " ['Will not be back!' 0]\n",
            " ['The service was great, even the manager came and helped with our table.'\n",
            "  1]\n",
            " ['Perfect for someone (me) who only likes beer ice cold, or in this case, even colder.'\n",
            "  1]\n",
            " ['Appetite instantly gone.' 0]\n",
            " ['It was a bit too sweet, not really spicy enough, and lacked flavor.' 0]\n",
            " ['Highly unprofessional and rude to a loyal patron!' 0]\n",
            " [\"I've had better, not only from dedicated boba tea spots, but even from Jenni Pho.\"\n",
            "  0]\n",
            " ['Crostini that came with the salad was stale.' 0]\n",
            " ['Awesome service and food.' 1]\n",
            " ['I think not again' 0]\n",
            " ['This one is simply a disappointment.' 0]\n",
            " ['Very poor service.' 0]\n",
            " ['Food was below average.' 0]\n",
            " ['Always a great time at Dos Gringos!' 1]\n",
            " [\"It's too bad the food is so damn generic.\" 0]\n",
            " ['The staff are also very friendly and efficient.' 1]\n",
            " ['I believe that this place is a great stop for those with a huge belly and hankering for sushi.'\n",
            "  1]\n",
            " ['Waiter was a jerk.' 0]\n",
            " ['Google mediocre and I imagine Smashburger will pop up.' 0]\n",
            " ['Similarly, the delivery man did not say a word of apology when our food was 45 minutes late.'\n",
            "  0]\n",
            " [\"Now the burgers aren't as good, the pizza which used to be amazing is doughy and flavorless.\"\n",
            "  0]\n",
            " ['Their daily specials are always a hit with my group.' 1]\n",
            " ['It was probably dirt.' 0]\n",
            " ['It was pretty gross!' 0]\n",
            " ['Everything on the menu is terrific and we were also thrilled that they made amazing accommodations for our vegetarian daughter.'\n",
            "  1]\n",
            " ['I kept looking at the time and it had soon become 35 minutes, yet still no food.'\n",
            "  0]\n",
            " ['I could care less... The interior is just beautiful.' 1]\n",
            " ['The chipolte ranch dipping sause was tasteless, seemed thin and watered down with no heat.'\n",
            "  0]\n",
            " ['Also were served hot bread and butter, and home made potato chips with bacon bits on top....very original and very good.'\n",
            "  1]\n",
            " ['Seafood was limited to boiled shrimp and crab legs but the crab legs definitely did not taste fresh.'\n",
            "  0]\n",
            " ['Good value, great food, great service.' 1]\n",
            " ['It was a pale color instead of nice and char and has NO flavor.' 0]\n",
            " ['This is was due to the fact that it took 20 minutes to be acknowledged, then another 35 minutes to get our food...and they kept forgetting things.'\n",
            "  0]\n",
            " ['I will never go back to this place and will never ever recommended this place to anyone!'\n",
            "  0]\n",
            " ['did not like at all.' 0]]\n"
          ],
          "name": "stdout"
        }
      ]
    },
    {
      "cell_type": "code",
      "metadata": {
        "colab": {
          "base_uri": "https://localhost:8080/"
        },
        "id": "8vr4O5rTOu7c",
        "outputId": "8ee8261a-14d6-46c8-ab95-faa85a79f8cf"
      },
      "source": [
        "print(\"Shape of Training_Dataset\",{Training_Dataset.shape})\n",
        "print(\"Shape of Dev_Dataset\",{Dev_Dataset.shape})"
      ],
      "execution_count": 1177,
      "outputs": [
        {
          "output_type": "stream",
          "text": [
            "Shape of Training_Dataset {(760, 2)}\n",
            "Shape of Dev_Dataset {(240, 2)}\n"
          ],
          "name": "stdout"
        }
      ]
    },
    {
      "cell_type": "code",
      "metadata": {
        "id": "uuHSCeCvPHym"
      },
      "source": [
        "x_Train = Training_Dataset[:,0]\n",
        "y_Train = Training_Dataset[:,-1]\n",
        "\n",
        "x_Dev = Dev_Dataset[:,0]\n",
        "y_Dev = Dev_Dataset[:,-1]\n",
        "\n"
      ],
      "execution_count": 1178,
      "outputs": []
    },
    {
      "cell_type": "markdown",
      "metadata": {
        "id": "viXA2Z90JIvY"
      },
      "source": [
        "# **B) Building a Vocabulary list as below**"
      ]
    },
    {
      "cell_type": "code",
      "metadata": {
        "id": "Ybt9er5KP3Sm"
      },
      "source": [
        "V = {}\n",
        "V_List = []\n",
        "def build_V_List(Data):\n",
        "  V = counting_number_of_unique_words(Data)\n",
        "  for i in V.keys():\n",
        "    V_List.append(i)\n",
        "    return V_List"
      ],
      "execution_count": 1179,
      "outputs": []
    },
    {
      "cell_type": "code",
      "metadata": {
        "id": "W2RnSG2XQnau"
      },
      "source": [
        "Count = {}\n",
        "def counting_number_of_unique_words(Data):\n",
        "  for L in Data:\n",
        "    for W in L.split():\n",
        "      if W in Count:\n",
        "        Count[W] = Count[W] + 1\n",
        "      else:\n",
        "          Count[W] = 1     \n",
        "  return Count\n",
        "\n"
      ],
      "execution_count": 1180,
      "outputs": []
    },
    {
      "cell_type": "code",
      "metadata": {
        "colab": {
          "base_uri": "https://localhost:8080/"
        },
        "id": "10lifEpfRoxM",
        "outputId": "20e61efe-6afa-4bfd-af4e-7fd35a1eac1b"
      },
      "source": [
        "Count = counting_number_of_unique_words(x_Train)\n",
        "print(\"Unique words in Dataset before Removing less Occuring Words : \", len(Count))"
      ],
      "execution_count": 1181,
      "outputs": [
        {
          "output_type": "stream",
          "text": [
            "Unique words in Dataset before Removing less Occuring Words :  2471\n"
          ],
          "name": "stdout"
        }
      ]
    },
    {
      "cell_type": "code",
      "metadata": {
        "colab": {
          "base_uri": "https://localhost:8080/"
        },
        "id": "Lq9QKxb0SAtK",
        "outputId": "6c7cc905-f67d-4202-f609-2f53ebd55749"
      },
      "source": [
        "print (Count)"
      ],
      "execution_count": 1182,
      "outputs": [
        {
          "output_type": "stream",
          "text": [
            "{'I': 219, \"don't\": 19, 'think': 10, \"I'll\": 6, 'be': 49, 'running': 4, 'back': 26, 'to': 171, \"Carly's\": 1, 'anytime': 4, 'soon': 3, 'for': 72, 'food.': 13, 'Great': 15, 'the': 322, 'spaghetti': 1, 'is': 128, 'nothing': 5, 'special': 2, 'whatsoever.': 1, 'The': 133, 'chicken': 12, 'dishes': 7, 'are': 51, 'OK,': 1, 'beef': 4, 'like': 33, 'shoe': 1, 'leather.': 1, \"won't\": 13, 'try': 5, 'going': 12, 'there': 17, 'even': 13, 'if': 13, \"it's\": 10, 'empty.': 1, 'However,': 2, 'my': 38, 'recent': 1, 'experience': 5, 'at': 40, 'this': 77, 'particular': 1, 'location': 3, 'was': 223, 'not': 77, 'so': 52, 'good.': 16, \"Don't\": 3, 'waste': 4, 'your': 15, 'time': 25, 'here.': 10, 'Once': 1, 'food': 56, 'arrives': 1, 'meh.': 1, 'Now': 3, 'am': 6, 'getting': 7, 'angry': 1, 'and': 281, 'want': 11, 'damn': 1, 'pho.': 1, 'WAAAAAAyyyyyyyyyy': 1, 'over': 6, 'rated': 1, 'all': 22, 'saying.': 1, 'Please': 1, 'stay': 2, 'away': 4, 'from': 16, 'shrimp': 3, 'stir': 1, 'fried': 4, 'noodles.': 1, 'i': 8, 'felt': 5, 'insulted': 2, 'disrespected,': 1, 'how': 9, 'could': 11, 'you': 41, 'talk': 4, 'judge': 2, 'another': 6, 'human': 2, 'being': 14, 'that?': 1, 'Best': 7, 'tater': 1, 'tots': 2, 'in': 77, 'southwest.': 1, 'Then': 1, 'our': 27, 'came': 13, 'out,': 1, 'disappointment': 1, 'ensued.': 1, 'This': 34, 'greedy': 1, 'corporation': 1, 'will': 19, 'NEVER': 2, 'see': 3, 'dime': 1, 'me!': 1, 'recommend': 9, 'unless': 3, 'car': 2, 'breaks': 1, 'down': 6, 'front': 2, 'of': 100, 'it': 64, 'starving.': 1, 'That': 2, 'said,': 1, 'mouths': 1, 'bellies': 1, 'were': 49, 'still': 7, 'quite': 7, 'pleased.': 1, 'Hopefully': 1, 'bodes': 1, 'them': 10, 'out': 14, 'business': 2, 'someone': 3, 'who': 7, 'can': 14, 'cook': 2, 'come': 9, 'in.': 3, 'today': 2, 'since': 5, 'they': 28, 'relocated': 1, 'impressed.': 2, 'swung': 1, 'give': 5, 'a': 168, 'but': 46, 'deeply': 1, 'disappointed.': 6, 'Macarons': 1, 'here': 28, 'insanely': 1, 'know': 8, 'what': 12, 'big': 2, 'deal': 5, 'about': 13, 'place,': 6, '\"ya\\'all\".': 1, 'pizza': 8, 'itself': 2, 'good': 43, 'peanut': 1, 'sauce': 6, 'very': 47, 'tasty.': 2, 'place': 55, 'eat,': 1, 'reminds': 1, 'me': 7, 'little': 9, 'mom': 1, 'pop': 1, 'shops': 1, 'San': 1, 'Francisco': 1, 'Bay': 3, 'Area.': 1, 'And': 6, 'chef': 1, 'generous': 2, 'with': 55, 'his': 5, '(even': 1, 'around': 5, 'twice': 4, 'we': 37, 'take': 6, 'pictures': 1, 'him).': 1, 'slow': 4, 'seating': 3, 'reservation.': 1, 'Total': 2, 'brunch': 2, 'fail.': 1, 'We': 27, 'ordered': 9, 'duck': 2, 'rare': 3, 'pink': 1, 'tender': 4, 'on': 39, 'inside': 4, 'nice': 14, 'char': 1, 'outside.': 1, 'red': 2, 'curry': 2, 'had': 50, 'much': 14, 'bamboo': 1, 'shoots': 1, \"wasn't\": 11, 'tasty': 4, 'me.': 2, 'All': 5, 'have': 46, 'say': 10, 'amazing!!!': 1, 'On': 4, 'side,': 1, 'staff': 10, 'genuinely': 1, 'pleasant': 2, 'enthusiastic': 1, '-': 19, 'real': 1, 'treat.': 2, 'A': 6, 'greasy,': 1, 'unhealthy': 1, 'meal.': 4, 'Nicest': 1, 'Chinese': 2, 'restaurant': 14, \"I've\": 16, 'been': 17, 'while.': 2, 'drive': 2, 'get': 14, 'there.': 5, 'salad': 7, 'just': 22, 'right': 7, 'amount': 2, 'power': 1, 'scallop,': 1, 'which': 15, 'perfectly': 2, 'cooked.': 1, 'tasted': 4, 'old,': 1, 'super': 6, 'chewy': 1, 'way.': 3, 'first': 12, \"can't\": 7, 'wait': 8, 'until': 2, 'next.': 1, 'Terrible': 1, 'management.': 2, 'jalapeno': 1, 'bacon': 3, 'soooo': 1, 'turkey': 1, 'roast': 2, 'bland.': 3, 'Back': 1, 'BBQ,': 1, 'lighter': 1, 'fare,': 2, 'reasonable': 3, 'pricing': 1, 'tell': 5, 'public': 1, 'old': 3, 'ways.': 1, 'Their': 6, 'rotating': 1, 'beers': 1, 'tap': 2, 'also': 17, 'highlight': 1, 'place.': 15, 'soon!': 1, 'group': 1, '70+': 1, 'when': 9, 'claimed': 1, 'would': 22, 'only': 19, '40': 3, 'handled': 1, 'us': 12, 'beautifully.': 1, 'started': 2, 'tuna': 1, 'sashimi': 2, 'brownish': 1, 'color': 1, 'obviously': 1, 'fresh.': 1, 'Dessert:': 1, 'Panna': 1, 'Cotta': 1, 'amazing.': 6, 'Just': 4, 'spicy': 6, 'enough..': 1, 'Perfect': 1, 'actually.': 1, 'delicious': 4, 'enough,': 1, 'sure': 6, 'ask': 4, 'spicier': 1, 'prefer': 1, 'that': 46, 'These': 2, 'nicest': 1, 'owners': 2, 'ever': 15, 'across.': 1, 'never': 14, 'such': 3, 'bland': 4, 'surprised': 1, 'considering': 3, 'article': 1, 'read': 1, 'focused': 2, 'their': 19, 'spices': 1, 'flavor.': 4, 'There': 6, 'privileged': 1, 'working/eating': 1, 'atmosphere,': 2, 'friendly': 13, 'fast': 2, 'service.': 10, 'disgrace.': 1, 'He': 5, 'check': 4, 'regularly,': 1, 'excellent': 7, 'An': 3, 'extensive': 1, 'menu': 7, 'provides': 1, 'lots': 2, 'options': 3, 'breakfast.': 2, 'Buffet': 2, 'town,': 3, 'price': 4, 'cannot': 2, 'beat': 4, 'it.': 11, 'Third,': 1, 'cheese': 2, \"friend's\": 2, 'burger': 8, 'cold.': 3, 'sat': 3, 'server': 10, 'go': 29, 'FANTASTIC!': 1, 'awesome': 4, 'something': 3, 'light': 1, 'healthy': 3, 'during': 5, 'summer.': 1, 'potatoes': 2, 'rubber': 1, 'made': 10, 'up': 14, 'ahead': 1, 'kept': 3, 'under': 2, 'warmer.': 1, 'paid': 1, 'bill': 3, 'did': 15, 'tip': 2, 'because': 12, 'terrible': 2, 'job.': 2, 'It': 18, 'absolutely': 7, 'walked': 3, 'smelled': 1, 'an': 23, 'grease': 1, 'trap': 1, '2': 6, 'others': 1, 'eating.': 1, 'bread': 3, 'in-house!': 1, 'My': 17, 'vinegrette': 1, 'baby': 1, 'greens': 1, 'hearts': 1, 'Palm.': 1, '7': 1, 'table': 4, 'service': 29, 'pretty': 12, 'fast.': 1, 'negligent': 1, 'needs': 2, 'feel': 8, 'unwelcome...': 1, 'suggest': 1, 'place!': 2, 'Veggitarian': 1, 'platter': 1, 'world!': 1, 'watch': 2, 'preparing': 1, 'food!)': 1, 'Ambience': 1, 'perfect.': 1, 'delicious!!!': 1, 'find': 2, 'wasting': 2, 'despicable,': 1, 'suffers': 1, 'trying': 2, 'hard': 3, 'enough.': 2, 'Outstanding': 1, 'some': 16, 'Food': 8, 'tasted.': 2, 'side': 5, 'Greek': 3, 'dressing': 3, 'tasty,': 1, 'pita': 1, 'hummus': 2, 'refreshing.': 1, 'Went': 1, 'lunch': 7, 'slow.': 4, 'par': 1, \"Denny's,\": 1, 'say,': 2, 'all.': 1, 'Will': 2, 'never,': 1, 'back.': 14, 'Hawaiian': 1, 'Breeze,': 1, 'Mango': 1, 'Magic,': 1, 'Pineapple': 1, 'Delight': 1, 'smoothies': 1, 'tried': 5, 'far': 3, \"they're\": 1, 'fish': 3, 'life!': 1, 'accountant': 1, \"I'm\": 16, 'screwed!': 1, 'wontons': 1, 'thin,': 1, 'thick': 1, 'chewy,': 1, 'almost': 2, 'melt': 1, 'mouth.': 1, 'So': 6, 'looking': 1, 'food...': 1, 'Pretty': 3, 'First': 1, 'bathrooms': 1, 'dirty-': 1, 'Seat': 1, 'covers': 1, 'replenished': 1, '&': 9, 'plain': 1, 'yucky!!!': 1, 'beef,': 1, 'cooked': 3, 'right.': 1, 'avoid': 3, 'staying': 2, 'Mirage.': 1, \"Won't\": 2, 'great': 26, 'touch.': 1, 'Host': 1, 'were,': 1, 'lack': 1, 'better': 7, 'word,': 1, 'BITCHES!': 1, 'chips': 4, 'dripping': 1, 'grease,': 1, 'mostly': 1, 'edible.': 3, 'expect': 5, 'good!': 3, 'review': 2, 'two': 4, 'stars,': 3, 'editing': 1, 'one.': 2, \"I'd\": 5, 'love': 14, 'Not': 9, 'thing.': 1, 'atmosphere': 5, 'lovely': 1, 'duo': 1, 'violinists': 1, 'playing': 1, 'songs': 1, 'requested.': 1, 'many': 7, 'words': 1, 'does': 2, 'everything': 4, 'well.': 5, 'They': 13, 'horrible': 3, 'attitudes': 1, 'towards': 1, 'customers,': 1, 'each': 4, 'one': 15, 'customers': 1, 'enjoy': 5, 'Strike': 1, '2,': 1, 'wants': 1, 'rushed.': 1, 'three': 2, 'different': 3, 'occasions': 1, 'asked': 5, 'well': 4, 'done': 4, 'or': 17, 'medium': 1, 'well,': 1, 'times': 10, 'got': 9, 'bloodiest': 1, 'piece': 4, 'meat': 7, 'plate.': 1, 'live': 4, 'neighborhood': 1, 'disappointed': 6, 'here,': 2, 'convenient': 1, 'location.': 1, 'weekly': 1, 'haunt,': 1, 'definitely': 11, 'every': 5, 'once': 4, 'Spend': 2, 'money': 3, 'elsewhere.': 2, 'chow': 1, 'mein': 1, 'letdown,': 1, 'rather': 3, 'Camelback': 1, 'Flower': 2, 'Shop': 1, 'Cartel': 1, 'Coffee.': 1, 'selection': 5, 'best.': 5, 'Gave': 1, 'eat': 14, 'any': 7, 'crust': 1, '(teeth': 1, 'sore).': 1, 'What': 5, 'double': 2, 'cheeseburger!': 1, 'Service': 10, 'company': 1, 'better!': 1, 'Every': 1, 'caring': 1, 'teamwork': 1, 'professional': 2, 'degree.': 1, 'prices': 3, 'Vegas': 7, 'located': 1, 'Crystals': 1, 'shopping': 1, 'mall': 2, 'by': 16, 'Aria.': 1, 'visit': 1, 'Hiro': 1, 'delight!': 1, 'eating': 6, 'again.': 14, 'Ample': 1, 'portions': 4, 'prices.': 3, 'thing': 6, 'waiter,': 1, 'he': 10, 'helpful': 3, 'bloddy': 1, \"mary's\": 1, 'coming.': 1, 'Would': 2, 'best': 11, 'bars': 2, 'Vegas.': 6, '(It': 1, 'busy': 2, 'either)': 1, 'Also,': 2, 'building': 1, 'FREEZING': 1, 'continue': 1, 'ladies': 2, 'night': 7, 'andddd': 1, 'date': 1, '...': 1, 'highly': 2, 'anyone': 1, 'area': 3, '(;': 1, 'mistake': 1, 'was!': 1, 'believe': 2, 'dirty': 2, 'oysters': 1, 'were!': 1, 'As': 5, 'service,': 6, 'thought': 5, 'Never': 2, 'cool': 2, 'say.': 1, 'Maybe': 2, \"weren't\": 1, 'cold': 2, 'somewhat': 1, 'selections': 1, 'Very': 12, 'convenient,': 1, 'MGM!': 1, 'CONCLUSION:': 1, 'filling': 2, 'meals.': 1, 'Worst': 2, 'Thai': 3, 'ever.': 1, 'note': 1, 'ventilation': 1, 'use': 2, 'upgrading.': 1, 'For': 3, 'few': 6, 'gone.': 1, 'breakfast': 4, '(just': 1, 'Sat,': 1, 'Sun.': 1, 'found': 6, 'six': 2, 'inch': 1, 'long': 1, 'wire': 1, 'salsa.': 1, 'worse': 2, 'now': 4, 'officially': 1, 'done.': 2, 'Waited': 2, 'waited': 5, 'waited.': 2, 'really': 23, 'clean.': 2, 'chefs': 1, 'enjoyed': 3, 'Crema': 1, 'Café': 1, 'before': 6, 'expanded;': 1, 'told': 2, 'friends': 2, 'BEST': 2, 'great,': 4, 'delish,': 1, 'incredible': 1, 'beer': 2, 'selection.': 2, 'receives': 1, 'stars': 6, 'APPETIZERS!!!': 1, 'garlic': 1, 'fondue,': 1, 'barely': 3, 'why.': 1, 'was.': 1, 'Bad': 2, 'day': 6, 'not,': 1, 'low': 1, 'tolerance': 1, 'rude': 3, 'customer': 2, 'people,': 1, 'job': 2, 'polite,': 1, 'wash': 1, 'otherwise!!': 1, 'creamy': 2, 'flavorful.': 1, 'quick': 5, 'friendly.': 5, \"It's\": 5, 'worth': 8, 'driving': 1, 'Tucson!': 1, 'Lastly,': 1, 'mozzarella': 1, 'sticks,': 1, 'ordered.': 1, '10': 4, 'minutes,': 1, \"we're\": 2, 'waiting': 2, 'her': 4, 'realized': 2, 'coming': 8, 'soon.': 3, 'delicious!': 5, 'Eew...': 1, 'complete': 1, 'overhaul.': 1, 'owner/chef,': 1, 'authentic': 5, 'Japanese': 1, 'dude!': 1, 'Wow': 1, 'delicious.': 5, 'Highly': 1, 'recommended.': 1, 'Lordy,': 1, 'Khao': 1, 'Soi': 1, 'dish': 5, 'missed': 1, 'lovers!': 1, 'terrible.': 2, 'chains,': 1, 'no': 14, 'fan': 1, 'of,': 1, 'easily.': 1, 'croutons': 1, 'taste': 7, 'homemade': 3, 'extra': 1, 'plus.': 1, 'couple': 3, 'months': 1, 'later,': 1, 'returned': 1, 'amazing': 4, 'husband': 4, 'ate': 2, 'dropped': 1, 'more': 13, 'than': 11, 'ball.': 1, 'disrespected.': 1, 'absolute': 1, 'must': 2, 'visit!': 1, 'After': 5, 'hour': 3, 'seated,': 1, 'greatest': 1, 'moods.': 1, 'then': 4, 'tragedy': 1, 'struck.': 1, 'ribeye': 1, 'steak': 8, 'mesquite': 1, 'You': 4, 'incredibly': 1, 'fresh': 7, 'fish,': 1, 'prepared': 1, 'care.': 1, 'Pho': 2, 'spring': 1, 'rolls': 3, 'oh': 2, 'yummy': 2, 'try.': 1, 'poor': 3, 'thats': 1, 'nice.': 2, 'all,': 5, 'assure': 2, 'outshining': 1, 'Halibut.': 1, 'guess': 2, 'should': 3, 'known': 1, 'suck,': 2, 'Excalibur,': 1, \"didn't\": 9, 'common': 1, 'sense.': 1, 'fella': 1, 'huevos': 1, 'rancheros': 1, 'look': 4, 'too': 7, 'appealing.': 1, 'loved': 4, 'accident': 1, 'happier.': 1, 'honestly': 1, 'blown': 1, 'up.': 2, 'friend': 1, 'Bloody': 1, 'Mary.': 1, 'Damn': 1, 'steak.': 1, 'why': 2, 'poisoning': 1, 'buffet.': 1, 'Hot': 3, 'hot,': 1, 'close': 4, 'room': 3, 'temp.I': 1, 'watched': 2, 'prepare': 1, 'BARE': 1, 'HANDS,': 1, 'gloves.Everything': 1, 'deep': 1, 'oil.': 1, 'flair': 1, 'bartenders': 1, 'amazing!': 2, 'Hard': 2, 'whether': 1, 'these': 3, 'sides': 2, 'grossed': 1, 'melted': 1, 'styrofoam': 1, 'fear': 1, 'sick.': 2, \"you'd\": 1, 'venture': 1, 'further': 1, 'sushi,': 2, 'hit': 4, 'spot': 4, 'night.': 3, 'Some': 1, 'may': 3, 'buffet': 6, 'pricey': 1, 'pay': 4, 'lot!': 1, 'bucks': 1, 'head,': 1, 'seriously': 3, 'owner': 2, 'has': 11, 'unexperienced': 1, 'employees': 1, 'chickens': 1, 'heads': 1, 'cut': 2, 'off.': 1, 'goat': 1, 'taco': 1, 'skimp': 1, 'wow': 1, 'FLAVOR!': 1, 'Any': 1, 'grandmother': 1, 'make': 5, 'roasted': 1, 'bit': 7, 'lacking.': 1, 'stuffed': 1, 'happy': 5, 'experience.': 8, 'delish': 1, 'mixed': 1, 'mushrooms,': 1, 'yukon': 1, 'gold': 1, 'puree,': 1, 'white': 2, 'corn': 1, 'beateous.': 1, '\"hello,': 1, 'you.\"': 1, 'service:': 1, 'fan,': 1, \"you're\": 3, 'served': 4, 'folks.': 2, \"Ryan's\": 1, 'Bar': 1, 'Edinburgh': 1, 'establishment': 2, 'revisiting.': 1, 'VERY': 1, 'disappointed!!': 1, 'waitress': 5, 'accomodate': 1, 'vegan/veggie': 1, 'options.': 1, 'probably': 6, 'worst': 7, 'seen': 1, 'Vegas.....there': 1, 'none.': 1, 'mac': 1, 'fair': 1, 'wrapped': 1, 'dates.': 1, 'crepe': 1, 'station.': 1, 'shower': 1, 'outside': 4, 'rinse,': 1, 'full': 2, 'shower,': 1, 'mind': 1, 'nude': 1, 'everyone': 2, 'see!': 1, 'left': 3, 'stomach': 2, 'ache': 1, 'sick': 2, 'rest': 1, 'day.': 2, 'Thumbs': 1, 'Up!!': 1, 'opinion': 1, 'entrees': 1, 'GC.': 1, 'Seriously': 2, 'killer': 1, 'hot': 3, 'chai': 1, 'latte.': 1, 'hole': 1, 'wall': 3, 'Mexican': 2, 'street': 1, 'tacos,': 1, 'staff.': 5, 'opportunity': 2, 'sample': 1, 'pizzas!': 1, \"We've\": 1, 'after': 5, '10+': 1, 'them.': 2, 'Level': 1, '5': 8, 'perfect,': 1, 'where': 5, 'spice': 1, 'over-whelm': 1, 'soup.': 1, 'Do': 2, 'yourself': 3, 'favor': 2, 'dish.': 1, 'Before': 1, 'gave': 2, '1': 1, 'star': 2, 'rating': 1, 'please': 2, 'third': 1, 'Bachi': 2, 'writing': 1, 'review.': 1, 'way': 7, 'overpriced.': 2, 'reason': 1, 'fill': 1, 'binge': 1, 'drinking': 1, 'carbs': 1, 'stomach.': 1, 'vanilla': 1, 'ice': 4, 'cream': 3, 'smooth': 1, 'while': 4, 'profiterole': 1, '(choux)': 1, 'pastry': 1, 'plethora': 1, 'salads': 1, 'sandwiches,': 1, 'gets': 1, 'seal': 1, 'approval.': 1, '(The': 1, 'bathroom': 2, 'next': 6, 'door': 1, 'nice.)': 1, 'fantastic': 2, 'visit.': 1, 'Oh': 1, 'beauty,': 1, 'restaurant.': 3, 'hours': 1, 'either': 2, 'pizzas': 2, 'as': 23, 'other': 11, 'later': 1, 'did!': 1, 'spinach': 1, 'avocado': 1, 'salad;': 1, 'ingredients': 1, 'sad': 2, 'literally': 3, 'zero': 5, 'taste.': 4, 'jewel': 1, 'Las': 1, 'Vegas,': 2, 'exactly': 1, 'hoping': 1, 'nearly': 1, 'ten': 1, 'years': 3, 'living': 1, 'always,': 1, 'compliments': 1, 'chef.': 2, 'From': 1, 'dinner': 4, 'companions': 1, 'me...everything': 1, 'texture': 1, 'do': 8, 'Kabuki': 1, 'over-priced,': 1, 'over-hip': 1, 'under-services.': 1, 'If': 13, 'orders': 2, 'tacos': 3, \"don't'\": 1, 'part': 2, 'combo': 1, 'ala': 1, 'cart?': 1, 'fantastic.': 3, 'RUDE': 1, 'INCONSIDERATE': 1, 'MANAGEMENT.': 1, 'Love': 2, 'hits': 1, 'lacking': 1, 'quantity': 1, 'Update.....went': 1, 'second': 2, 'attentive.': 1, 'SHOULD': 1, 'hilarious,': 1, 'Christmas': 1, 'Eve': 1, 'remember': 1, 'biggest': 1, 'fail': 1, 'entire': 1, 'trip': 2, 'us.': 3, 'food,': 9, 'atmosphere.1': 1, 'ambience': 1, 'wonderful': 5, 'music': 2, 'playing.': 1, 'places': 3, 'circumstances': 1, 'return': 1, 'to,': 1, 'tops': 1, 'list.': 1, 'possible': 1, \"they'd\": 1, \"Owner's\": 1, 'people.!': 1, 'ever,': 1, 'Maria': 1, 'she': 5, 'Today': 2, 'Buldogis': 1, 'Gourmet': 1, 'Dog': 1, 'possible.': 2, 'Lobster': 1, 'Bisque,': 1, 'Bussell': 1, 'Sprouts,': 1, 'Risotto,': 1, 'Filet': 2, 'ALL': 1, 'needed': 2, 'salt': 3, 'pepper..and': 1, 'course': 2, 'none': 1, 'tables.': 1, 'TOTAL': 1, 'WASTE': 1, 'OF': 1, 'TIME.': 1, 'hardly': 1, 'meat.': 2, \"isn't\": 2, 'bad': 8, 'enough': 6, 'you,': 1, 'dealing': 1, \"world's\": 1, 'worst/annoying': 1, 'drunk': 1, 'people.': 1, 'bus': 1, 'boy': 1, 'hand': 1, 'rude.': 1, 'pasta,': 1, '/hand': 1, 'pastas': 1, 'thin': 1, 'Only': 1, 'Pros': 1, ':': 1, 'Large': 1, 'area/': 2, 'Nice': 2, 'bar': 2, 'simple': 1, 'drink': 3, 'menu/': 1, 'brick': 2, 'oven': 2, 'dough!': 1, 'sergeant': 1, 'pepper': 1, 'sandwich': 5, 'auju': 1, 'Our': 4, 'attentive': 2, 'serving': 2, 'boyfriend': 2, 'completely': 1, 'delightful': 1, 'fun': 3, 'empty': 2, 'suggestions.': 1, 'Albondigas': 1, 'soup': 2, 'warm': 3, 'tomato': 1, 'frozen': 2, 'meatballs.': 1, 'outstanding': 1, 'reasonable.': 1, '-Drinks': 1, 'took': 5, '30': 4, 'minutes': 6, 'point.': 1, 'PERFECT': 1, 'sit-down': 1, 'family': 5, 'meal': 4, 'together': 1, 'friends.': 1, 'dry,': 1, 'sliced': 2, 'brisket': 1, 'pulled': 2, 'pork.': 1, 'Left': 1, 'frustrated.': 1, 'Thoroughly': 1, 'disappointed!': 2, 'Everything': 4, 'rich': 1, 'order': 6, 'accordingly.': 1, 'Lemon': 1, 'raspberry': 1, 'cocktail': 1, 'incredible.': 2, 'scallop': 1, 'appalling': 1, 'value': 1, 'drag': 1, 'into': 2, 'heard': 2, 'things': 2, 'exceeding': 1, 'hope': 1, 'dreamed': 1, 'of.': 1, 'time!': 1, '\"mains,\"': 1, 'uninspired.': 1, 'Definitely': 2, '$3': 1, 'paid.': 1, 'Same': 1, 'evening,': 1, 'him': 1, 'both': 3, 'drastically': 1, 'salmon': 2, 'sashimi.': 1, 'checked': 3, 'ago': 1, 'fries': 7, 'beans.': 1, 'blanket': 1, 'moz': 1, 'top': 1, 'cover': 1, 'subpar': 1, 'turn': 1, 'off': 4, 'doubt': 2, 'else': 2, 'buying.': 1, 'Come': 1, 'hungry,': 1, 'leave': 3, 'stuffed!': 1, '\"to': 1, 'go\"': 1, 'it!': 1, 'here!': 2, 'lacked': 1, 'flavor,': 1, 'seemed': 1, 'undercooked,': 1, 'dry.': 1, 'Overall,': 4, 'Server': 1, 'handling': 1, 'large': 2, 'rowdy': 1, 'table.': 3, 'flavorful': 2, 'delights,': 1, 'Eclectic': 1, 'friendly,': 2, 'horrible,': 1, 'says': 1, 'hi': 1, 'minutes.': 3, 'Honeslty': 1, 'THAT': 1, 'fresh.)': 1, 'Vegetarian': 1, 'average': 3, 'OMG,': 1, 'delicioso!': 1, 'waiter': 3, 'lot': 5, 'attention': 1, 'tables': 4, 'ignore': 1, 'Disappointed': 1, '$35': 1, 'Big': 1, 'Plater.': 1, \"That's\": 1, 'right....the': 1, 'velvet': 1, 'cake.....ohhh': 1, 'stuff': 1, 'Phenomenal': 1, 'ambiance.': 1, \"girlfriend's\": 1, 'veal': 1, 'bad.': 5, 'familiar,': 1, 'out.': 2, 'house,': 1, 'low-key,': 1, 'non-fancy,': 1, 'affordable': 1, 'prices,': 1, 'seafood': 4, 'salad,': 1, 'fabulous': 1, 'vinegrette.': 1, 'pissd.': 1, 'Bland...': 1, 'liking': 1, 'number': 1, 'reasons': 1, 'reviewing..': 1, 'that...': 1, 'glad': 2, 'Plus,': 1, '8': 2, 'bucks.': 1, 'apparently': 1, 'batter': 2, 'chewy.': 1, 'Kind': 1, 'mess': 1, 'did.': 2, 'extremely': 4, 'really,': 2, 'restaurants': 2, 'dine': 1, 'weekend': 1, 'Waitress': 2, 'sweet': 3, 'funny.': 1, 'Fantastic': 2, 'Loved': 1, 'it...friendly': 1, 'servers,': 1, 'imaginative': 1, 'menu.': 2, 'spot.': 3, 'vomited': 1, 'mid': 1, 'lunch.': 2, 'Coming': 1, 'experiencing': 1, 'underwhelming': 1, 'relationship': 1, 'parties': 1, 'person': 2, 'break': 2, 'manager': 3, \"Mom's\": 1, 'multi-grain': 1, 'pumpkin': 1, 'pancakes': 2, 'pecan': 1, 'butter': 1, 'amazing,': 2, 'fluffy,': 1, 'dressed': 1, 'treated': 3, 'rudely!': 1, 'biscuits!!!': 1, 'presentation': 2, 'awful.': 2, 'mention': 1, 'combination': 1, 'pears,': 1, 'almonds': 1, 'winner!': 1, 'reading': 1, 'classics': 1, 'new': 4, 'sorely': 1, 'everything.': 1, 'perpared': 1, 'beautiful': 2, '3': 3, 'giant': 1, 'slices': 1, 'Toast,': 1, 'lightly': 1, 'dusted': 1, 'powdered': 1, 'sugar.': 1, 'ambiance': 4, 'better.': 1, 'courteous.': 1, 'servers': 4, 'went': 8, 'forth': 1, 'several': 3, 'times,': 1, '\"Are': 1, 'helped?\"': 1, 'Shrimp-': 1, 'When': 5, 'unwrapped': 1, '(I': 1, '1/2': 1, 'mile': 1, 'Brushfire)': 1, 'exquisite.': 1, 'decor': 1, 'calligraphy': 1, 'paper.': 1, 'wrong': 3, 'donut': 1, 'included': 1, 'tastings': 1, 'drinks,': 1, 'Jeff': 1, 'above': 2, 'beyond': 2, 'expected.': 1, 'definately': 2, 'ourselves.': 1, 'Burrittos': 1, 'Blah!': 1, 'bagels': 1, 'grocery': 1, 'store.': 1, 'desserts': 2, 'yummy.': 1, 'Disappointing': 1, 'refried': 1, 'beans': 1, 'dried': 1, 'crusty': 1, 'atmosphere.': 2, 'good,': 3, 'though!': 2, 'Fridays': 1, 'totally': 3, 'blows.': 1, 'fav': 1, 'crazy': 2, 'guacamole': 1, 'puréed.': 1, 'Frozen': 1, 'pucks': 1, 'disgust,': 1, 'people': 2, 'behind': 2, 'register.': 1, 'Over': 1, 'rated.': 1, 'Give': 1, 'try,': 1, '*': 1, 'Both': 4, 'Sour': 1, 'Egg': 1, 'Soups': 1, 'Stars!': 1, 'strange.': 1, 'Con:': 1, 'spotty': 1, 'deserves': 3, 'stars.': 3, 'Avoid': 1, 'cost!': 1, 'bug': 2, 'showed': 1, 'given': 2, '4': 3, 'sure,': 1, 'climbing': 1, 'kitchen.': 1, 'Firehouse!!!!!': 1, 'SCREAMS': 1, '\"LEGIT\"': 1, \"book...somethat's\": 1, 'boot,': 1, 'least': 3, 'worries.': 1, 'might': 1, 'last.': 1, 'Anyways,': 1, 'more.': 1, 'Nargile': 1, 'great.': 6, 'disgusting!': 1, 'Customer': 1, '!': 1, 'drive.': 1, 'Tried': 1, 'madhouse.': 1, 'In': 4, 'fact': 3, 'round': 1, 'awesome.': 2, 'bites': 1, 'refused': 1, 'anymore.': 1, 'steak,': 2, 'sides,': 1, 'wine,': 1, 'desserts.': 1, 'again!': 2, 'Stopped': 2, 'Madison': 1, 'Ironman,': 1, 'kind': 3, 'To': 3, 'disbelief,': 1, 'qualified': 1, 'version': 1, 'foods': 1, 'highlighted': 1, 'unique': 1, 'menu,': 2, 'setting.': 1, '20': 1, 'asking': 1, 'order.': 1, '-My': 1, 'correct.': 1, \"We'd\": 1, 'expert/connisseur': 1, 'topic.': 1, 'perfect': 5, 'see.': 1, 'No,': 1, 'potato': 5, 'strangers': 1, 'hair': 1, 'Prices': 1, 'reasonable,': 1, 'flavors': 1, 'on,': 1, 'home': 1, 'made,': 1, 'slaw': 1, 'drenched': 1, 'mayo.': 1, 'bowl': 2, 'Pho!': 1, 'crisp': 1, 'town.': 1, '100': 1, 'home.': 1, 'fine': 2, 'Hands': 1, 'favorite': 1, 'Italian': 1, 'restaurant!': 1, 'Crust': 1, 'Overall': 2, 'impressed': 3, 'used': 2, 'work': 2, 'Nobu,': 1, 'similar': 1, 'half': 1, 'price.': 2, 'pho': 1, 'amazing!!': 1, 'lived': 1, '1979': 1, '(and': 1, 'last)': 1, 'stepped': 1, 'foot': 1, 'arrived': 1, 'quickly!': 1, 'fiancé': 1, 'middle': 1, 'greeted': 1, 'seated': 3, 'away.': 1, 'golden-crispy': 1, 'relax': 1, 'beer.': 2, 'REAL': 1, 'sushi': 6, 'lovers,': 1, \"let's\": 1, 'honest': 1, 'Yama': 1, 'Experience!': 1, 'Mediterranean': 1, 'Chicken': 2, 'Salad': 1, 'fell': 1, 'love.': 1, 'sucked,': 1, 'expected': 2, 'sucked': 1, 'imagined.': 1, 'Ha': 1, 'Long': 1, 'flop.': 1, 'margaritas': 1, 'WAY': 1, 'sugary': 2, 'besides': 1, \"Costco's.\": 1, 'tough': 1, 'short': 1, 'flavor!': 1, \"We'll\": 1, 'bother': 1, 'min': 2, 'milkshake,': 1, 'chocolate': 1, 'milk.': 1, 'cashier': 2, 'brought': 3, 'prime': 1, 'rib': 1, 'dessert': 2, 'section.': 1, 'lot.': 1, 'seems': 1, 'grab': 1, 'bite': 1, 'familiar': 1, 'pub': 1, 'rice': 1, 'dry': 1, 'Which': 1, 'small': 1, 'Reasonably': 1, 'priced': 1, 'also!': 1, 'disgusted': 1, 'hair.': 1, 'single': 2, 'employee': 1, 'OK': 1, 'water': 2, 'refill': 2, 'finally': 1, 'leaves': 1, 'desired.': 1, 'late': 1, 'May': 1, 'bank': 1, 'holiday': 1, 'Rick': 1, 'Steve': 1, 'recommendation': 2, 'Unfortunately,': 3, 'pancake': 1, 'that.': 4, 'Pricing': 1, 'concern': 1, 'Mellow': 1, 'Mushroom.': 1, 'money.': 2, 'put': 1, 'plastic': 1, 'containers': 1, 'opposed': 1, 'cramming': 1, 'paper': 1, 'takeout': 1, 'boxes.': 1, 'dining': 5, 'college': 1, 'cooking': 1, 'high': 2, 'class': 1, 'Sunday': 1, 'promise': 2, 'disappoint.': 2, 'But': 2, 'folks': 2, 'Otto': 1, 'always': 9, 'welcome': 1, 'special.': 2, 'strawberry': 1, 'tea,': 1, 'cheated': 1, 'Rice': 1, 'Company.': 1, 'Cooked': 1, 'perfection': 2, 'impeccable.': 2, 'How': 2, 'call': 1, 'steakhouse': 1, 'properly': 1, 'understand!': 1, 'Things': 1, 'wrong:': 1, 'burned': 1, 'saganaki.': 1, 'rarely': 1, 'Chipotle,': 1, 'BETTER.': 1, 'be,': 1, 'menus': 1, 'handed': 1, 'listed.': 1, 'quickly': 1, 'biscuit.': 1, 'WORST': 1, 'EXPERIENCE': 1, 'EVER.': 1, 'margaritas,': 1, 'too!': 1, 'Perhaps': 1, 'caught': 1, 'judging': 1, 'reviews,': 1, 'inspired': 1, 'bakery': 1, 'leftover': 1, 'STALE.': 1, 'terrible!': 1, 'crawfish': 1, 'experience,': 1, 'Tigerlilly': 1, 'afternoon!': 1, 'sucks.': 3, 'without': 2, 'had.': 2, 'lighting': 1, 'dark': 1, 'set': 2, 'mood.': 1, 'At': 2, 'struggle': 1, 'wave': 1, 'Of': 1, 'dishes,': 1, 'best,': 1, 'monster': 1, 'eggs': 1, 'favorite.': 1, 'immediately': 1, 'said': 7, 'wanted': 2, 'guy': 1, 'doing': 1, 'shots': 1, 'fireball': 1, 'bar.': 1, 'Strip,': 1, 'go.': 1, 'iced': 1, 'tea.': 1, 'Nice,': 1, 'tender.': 1, 'modern': 1, 'hip,': 1, 'maintaining': 1, 'touch': 1, 'coziness.': 1, 'care': 1, 'ended': 1, 'wayyy': 1, 'excellent.': 1, 'Thus': 1, 'far,': 1, 'visited': 1, 'time.': 2, 'Sauce': 1, 'tasteless.': 4, 'Paying': 1, '$7.85': 1, 'dog': 2, 'looks': 1, \"kid's\": 1, 'Wienerschnitzel': 1, 'idea': 1, 'Your': 1, 'wait,': 1, 'correction,': 1, 'Heimer': 1, 'sucked.': 2, 'its': 1, '\"real': 1, 'traditional': 1, 'Hunan': 1, 'style\".': 1, 'proven': 1, 'dead': 1, 'bar,': 1, 'quality': 6, 'disapppointment': 1, 'entrees.': 1, 'amazing...rge': 1, 'fillet': 1, 'relleno': 1, 'plate': 1, 'had!': 1, 'must-stop': 1, 'whenever': 1, 'town': 3, ',': 2, 'pace.': 1, 'back,': 3, 'passed': 2, 'atrocious': 1, 'return.': 1, 'Anyway,': 2, \"Couldn't\": 1, 'satisfying': 1, 'Go': 1, 'Place': 1, 'Gyros.': 1, 'app!': 1, 'workers': 1, 'meal,': 1, 'complain': 1, 'NOT': 1, 'decent': 1, 'hamburger.': 1, 'cant': 1, 'surprise!': 1, 'Han': 1, 'Nan': 1, 'DELICIOUS!!': 1, 'joint.': 1, 'AVOID': 1, 'THIS': 1, 'ESTABLISHMENT!': 1, 'overpriced': 2, 'mediocre': 2, 'Tasted': 1, 'dirt.': 1, 'Kids': 1, 'kiddos!': 1, 'serivce!': 1, 'guys': 1, 'steaks,': 1, 'loving': 1, 'son': 1, \"he's\": 1, 'eaten.': 2, 'Ordered': 3, 'cheeseburger': 1, 'patty': 1, 'falling': 1, 'apart': 1, '(picture': 1, 'uploaded)': 1, 'Yeah,': 1, 'Delicious': 1, 'back!': 1, 'flavourful.': 1, 'kids': 1, 'play': 1, 'NASTY!': 1, 'Sorry,': 1, ':(': 1, 'Took': 1, 'Luke': 1, 'warm,': 1, 'sever': 1, 'overwhelmed.': 1, 'portion.': 1, 'bartender': 1, 'Bouchon.': 1, 'cold,': 1, 'flavor': 3, 'mortified.': 1, 'food!': 1, 'downright': 1, 'you.': 1, 'Bland': 1, 'flavorless': 1, 'describing': 1, 'tepid': 1, 'cow': 2, 'tongue': 1, 'cheek': 1, 'Restaurant': 1, 'wait.': 1, 'ratio': 1, 'tenders': 1, 'unsatisfying.': 1, 'Insults,': 1, 'profound': 1, 'deuchebaggery,': 1, 'smoke': 1, 'solidify': 1, 'descriptions': 1, '\"yum': 1, 'yum': 1, 'sauce\"': 1, '\"eel': 1, 'sauce\",': 1, 'yet': 2, '\"spicy': 1, 'mayo\"...well': 1, 'NONE': 1, 'sauces': 1, 'Omelets': 1, 'die': 2, 'for!': 1, 'summarize...': 1, 'incredible,': 1, 'nay,': 1, 'transcendant...': 1, 'brings': 1, 'joy': 1, 'memory': 1, 'pneumatic': 1, 'condiment': 1, 'dispenser.': 1, 'Horrible': 1, 'then,': 1, 'giving': 1, 'now.': 1, 'soggy': 1, 'cocktails': 1, 'handmade': 1, 'changing,': 1, 'consider': 1, 'theft.': 1, 'deliciously': 1, 'seasoned': 2, 'fry': 1, 'moist': 1, 'inside.': 1, 'shocked': 1, 'signs': 1, 'indicate': 1, 'cash': 1, 'only.': 2, 'whole': 1, 'bunch': 1, 'interesting,': 1, 'meats': 1, 'choose': 2, 'from,': 1, 'need': 3, 'Strip': 1, 'Steak.': 1, 'insulted.': 1, 'rude...': 1, 'apologize': 1, 'anything.': 1, 'fails': 1, 'deliver.': 1, 'Awful': 1, 'ripped': 1, 'banana': 1, 'ripped,': 1, 'petrified': 1, 'times.': 1, 'Noca.': 1, 'too.': 3, 'great!': 1, 'redeeming': 1, 'inexpensive.': 1, 'Voodoo': 1, 'pasta': 3, 'gluten': 1, 'free': 1, 'ago.': 1, 'bite,': 1, 'hooked.': 1, 'Must': 1, 'Sadly,': 1, 'Gordon': 1, \"Ramsey's\": 1, 'Steak': 1, 'shall': 1, 'sharply': 1, 'opened': 1, 'sandwich,': 1, 'impressed,': 1, 'strings': 1, 'bottom.': 1, 'nice,': 1, 'though': 1, 'looked': 2, 'overwhelmed': 1, 'needs,': 1, 'stayed': 1, 'end.': 1, 'Generous': 1, 'setting,': 1, 'douchey': 1, 'indoor': 1, 'garden': 1, 'tea': 1, 'biscuits.': 1, 'sunglasses': 1, 'brother': 1, 'law': 1, 'works': 1, 'same': 1, 'day,': 1, 'By': 1, 'excuse.': 1, 'past,': 1, 'batch': 1, 'thinking': 1, 'yay': 1, 'no!': 1, 'Check': 1, 'toro': 1, 'tartare': 1, 'cavier': 1, 'extraordinary': 1, 'liked': 2, 'thinly': 1, 'wagyu': 1, 'truffle.': 1, 'Classy/warm': 1, 'appetizers,': 1, 'succulent': 1, 'steaks': 2, '(Baseball': 1, 'steak!!!!!': 1, 'huge': 3, 'awkward': 1, '1.5lb': 1, '3/4ths': 1, 'gristle': 1, 'fat.': 1, 'performed.': 1, 'honor': 1, 'Pizza': 1, 'Hut': 1, 'coupons.': 1, 'Those': 1, 'burgers': 1, 'pork': 1, 'sandwich.': 1, 'price,': 1, 'house': 1, 'made.': 1, 'One': 2, 'added': 1, 'gratuity': 1, 'party': 2, 'larger': 1, '6': 1, '8,': 1, 'Needless': 1, 'Rock': 1, 'Casino': 1, 'before,': 1, 'WILL': 1, 'EVER': 1, 'STEP': 1, 'FORWARD': 1, 'IN': 1, 'IT': 1, 'AGAIN!': 1, 'No': 3, 'complaints!': 1, 'vibe': 1, 'drinks': 2, 'WEAK,': 1, 'people!': 1, 'North': 1, 'Scottsdale...': 1, 'Boy': 1, 'sucker': 1, 'dry!!.': 1, 'satifying': 1, 'military': 1, 'discount.': 1, 'decided': 1, 'send': 1, 'verge': 1, 'having': 1, 'heart': 1, 'attack.': 1, 'far!!': 1, 'it!!!!': 1, 'Cant': 1, 'multiple': 1, 'wine': 2, 'list': 1, 'ignored': 1, 'hostess': 1, 'myself.': 1, 'bring': 3, 'either.': 2, 'High-quality': 1, 'Caesar': 1, 'salad.': 2, 'else.': 1, 'Good': 3, 'clean,': 1, 'inexpensive,': 1, 'boot!': 1, 'absolutley': 1, 'pan': 1, 'cakes': 1, 'raving': 1, 'disaster': 1, 'tailored': 1, 'palate': 1, 'year': 2, 'old.': 1, 'gyro': 1, 'basically': 1, 'lettuce': 1, 'Phoenix': 2, 'again': 1, '.': 2, 'boring.': 1, 'Although': 1, 'sound': 1, 'actual': 1, 'disappointing.': 1, 'honest.': 2, 'sporting': 1, 'events': 1, 'walls': 1, 'covered': 1, \"TV's.\": 1, 'grilled': 1, 'yellow': 1, 'saffron': 1, 'seasoning.': 1, 'interesting': 1, 'others.': 1, 'expensive.': 1, 'returning.': 1, 'bland,': 1, 'overcooked': 1, 'charcoal': 1, 'reviewer': 1, '\"you': 1, \"couldn't\": 2, 'again.\"': 1, 'rolled': 1, 'eyes': 1, 'stayed...': 1, 'them,': 1, 'poorly': 1, 'constructed.': 1, \"would've\": 1, 'godfathers': 1, 'disappointing!!!': 1, 'saving': 1, 'this!': 1, 'Poor': 1, 'stupid': 1, 'solid': 1, 'Cape': 1, 'Cod': 1, 'ravoli,': 1, 'chicken,with': 1, 'cranberry...mmmm!': 1, 'LOVED': 1, 'mussels': 1, 'reduction,': 1, 'tender,': 1, 'Worse': 1, 'humiliated': 1, 'worker': 1, 'me..Bunch': 1, 'name': 1, 'callings.': 1, 'gooodd.': 1, 'Tonight': 1, 'Elk': 1, 'special...and': 1, 'downside': 1, 'happened': 1, 'pretty....off': 1, 'putting.': 1, 'ground,': 1, 'large,': 1, 'smeared,': 1, 'been-stepped-in-and-tracked-everywhere': 1, 'pile': 1, 'green': 2, 'bird': 1, 'poop.': 1, 'appetizer': 1, \"It'll\": 1, 'regular': 1, 'stop': 1, 'trips': 1, 'Phoenix!': 1, 's': 1, 'flavored.': 1, 'wings,': 1, 'feeling': 2, 'satisfied.': 1, 'Try': 1, 'airport': 1, 'speedy,': 1, '!....THE': 1, 'OWNERS': 1, 'REALLY': 2, 'quit': 1, 'soooooo': 1, 'cheap': 1, 'let': 2, 'wrap': 1, 'freaking': 1, 'papers': 1, 'one!': 2, 'immediately.': 1, 'finish': 1, 'ethic': 1, 'summary,': 1, 'largely': 1, 'disappointing': 2, 'Awesome': 1, 'onion': 1, 'rings': 1, 'allergy': 1, 'warnings': 1, 'clue': 1, 'meals': 1, 'contain': 1, 'peanuts.': 1, 'portion': 1, 'huge!': 1, '15': 1, 'acknowledged.': 1, 'joint': 1, 'nachos': 1, 'movies': 1, 'luck': 1, 'non-customer': 1, 'equally': 2, 'fo': 1, 'fun.': 1, 'vegetarian': 1, 'dinner,': 1, 'wide': 1, 'array': 1, 'from.': 1, 'ago!': 1, 'Probably': 2, \"wouldn't\": 1, 'unbelievable': 1, 'BARGAIN!': 1, 'Hell': 1, 'Really,': 1, 'rice,': 1, 'moist.': 1, 'rave': 1, 'reviews': 1, 'here......what': 1, 'disappointment!': 1, 'Burger': 1, 'serve': 1, 'Indian': 1, 'naan': 1, 'pine': 1, 'nut': 1, 'world.': 1, 'Wife': 1, 'hated': 1, '(coconut': 1, 'shrimp),': 1, 'meals,': 1, 'sexy': 1, 'mouth,': 1, 'outrageously': 1, 'flirting': 1, 'hottest': 1, 'party.': 1, 'clean': 2, 'stale!': 1, 'Subway,': 1, 'Subway': 1, 'meet': 1, 'expectations.': 1, 'bruschetta': 1, 'devine.': 1, 'thirty': 1, '(although': 1, 'vacant': 1, 'waiting).': 1, 'received': 1, 'Pita': 1, 'thumbs': 1, 'longer': 1, 'arepas.': 1, 'Then,': 1, \"hadn't\": 1, 'wasted': 1, 'life': 1, 'there,': 1, 'poured': 1, 'wound': 1, 'drawing': 1, 'check.': 1, 'Bellagio': 1, 'anticipated.': 1, 'hereas': 1, 'tribute': 2, 'event': 1, 'held': 1, 'last': 2, \"aren't\": 1, 'ones': 1, 'scene': 1, 'it...definitely': 1, 'lost': 1, 'Be': 1, 'dessert,': 1, 'pack': 1, 'to-go': 1, 'tiramisu': 1, 'cannoli': 1, 'for.': 2, 'lover': 1, 'means.': 1, 'guest': 1, 'fucking': 1, 'small.': 1, 'experienced': 1, 'Frenchman.': 1, \"Joey's\": 1, 'voted': 1, 'Valley': 2, 'readers': 1, 'Magazine.': 1, 'cause': 1, 'owned,': 1, 'cute.': 1, 'sals': 1, 'amazing!!!!!!!!!!!!!!!!!!!': 1, 'Jamaican': 1, 'mojitos': 1, 'Favorite': 1, 'shawarrrrrrma!!!!!!': 1, 'Each': 1, 'week': 1, 'worst.': 1, 'time,': 1, 'alone': 1, 'twice.': 1, 'where.': 1, '40min': 1, 'between': 2, 'ordering': 1, 'arriving,': 1, 'busy.': 1, 'Why': 1, 'vegetables': 2, 'overcooked?': 1, 'FS': 1, 'breakfast/lunch.': 1, 'crowds': 1, 'downtown': 1, 'juries,': 1, 'lawyers,': 1, 'court': 1, 'Def': 1, 'cashew': 1, 'undercooked.': 1, 'heat.': 1, 'Mediocre': 1, 'hurry': 1, 'elsewhere': 1, 'dessert.': 1, 'wings': 1, 'contained': 1, 'driest': 1, 'buffets': 1, 'to.': 1, 'patio': 1, 'comfortable.': 2, 'gross.': 1, 'space': 1, 'tiny,': 1, 'elegantly': 1, 'decorated': 1, '\"crumby\"': 1, 'chip': 1, 'sad...': 1, 'count': 1, 'box': 1, '12.': 1, 'GREAT': 1, 'eat!': 1, 'hospitality': 1, 'industry': 1, 'Paradise': 1, 'refrained': 1, 'recommending': 1, 'Cibo': 1, 'longer.': 1, \"shouldn't\": 1, 'eggs.': 1, \"we'll\": 2, 'positive': 1, 'note,': 1, 'provided': 1, 'Cute,': 1, 'quaint,': 1, 'simple,': 1, 'forever': 1, 'connoisseur': 1, 'difference': 1, 'certainly': 1, 'burger...': 1, '\"Gold': 1, 'Standard\"': 1, '$17': 1, 'tasty!': 1, 'hate': 1, 'disagree': 1, 'fellow': 1, 'Yelpers,': 1, '100%': 1, 'recommended!': 1, 'lady': 1, 'caterpillar': 1, 'truly': 1, 'unbelievably': 1, 'here!!!\"': 1, 'arrived,': 1, 'gyros': 1, 'missing.': 1, 'packed!!': 1, 'Very,': 1, 'sad.': 1, 'hardest': 1, 'decision...': 1, 'Honestly,': 1, \"M's\": 1, 'supposed': 1, '(amazing).': 1, 'recall': 1, 'charged': 1, 'water.': 1, '90%': 1, 'diverse,': 1, 'reasonably': 1, 'priced.': 1, 'airline': 1, 'seriously.': 1, 'brunch.': 1, 'Everyone': 1, 'waitresses': 1, 'mean': 1, 'famous': 1, 'terrible!?!': 1, 'egg': 1}\n"
          ],
          "name": "stdout"
        }
      ]
    },
    {
      "cell_type": "markdown",
      "metadata": {
        "id": "xjF_CqNhaBhS"
      },
      "source": [
        "# Removing the repeated words"
      ]
    },
    {
      "cell_type": "code",
      "metadata": {
        "colab": {
          "base_uri": "https://localhost:8080/"
        },
        "id": "Lqma4WhaSFkd",
        "outputId": "afa96e04-896a-4f96-8b50-62e8f24bd12b"
      },
      "source": [
        "Repeat_W = []\n",
        "for i in Count.keys():\n",
        "  if (Count[i]<7):\n",
        "    Repeat_W.append(i)\n",
        "for i in Repeat_W:\n",
        "  del Count[i]\n",
        "len (Count)"
      ],
      "execution_count": 1183,
      "outputs": [
        {
          "output_type": "execute_result",
          "data": {
            "text/plain": [
              "181"
            ]
          },
          "metadata": {
            "tags": []
          },
          "execution_count": 1183
        }
      ]
    },
    {
      "cell_type": "markdown",
      "metadata": {
        "id": "C_jRpBYkaFVL"
      },
      "source": [
        "# Removing the less Occuring Words and Cleaning the Data"
      ]
    },
    {
      "cell_type": "code",
      "metadata": {
        "id": "LbJdWRWISrGR"
      },
      "source": [
        "def Remove_less_occuring_word(Data, Count):\n",
        "  for i, Reviews in enumerate(Data):\n",
        "    Cleaning = []\n",
        "    for W in Reviews.split():\n",
        "      if W in Count.keys():\n",
        "         Cleaning.append(W)\n",
        "    Cleaning = ' '.join(Cleaning)\n",
        "    Data[i] = Cleaning\n",
        "  return Data"
      ],
      "execution_count": 1184,
      "outputs": []
    },
    {
      "cell_type": "code",
      "metadata": {
        "colab": {
          "base_uri": "https://localhost:8080/"
        },
        "id": "VUrqa5OEUVn_",
        "outputId": "da6f1780-d3d4-4218-8960-9bed74a00962"
      },
      "source": [
        "x_Train = Remove_less_occuring_word(x_Train, Count)\n",
        "print(\"Total unique words after Removing less occuring Words : \", len(x_Train))\n",
        "print(Count)\n",
        "print('')"
      ],
      "execution_count": 1185,
      "outputs": [
        {
          "output_type": "stream",
          "text": [
            "Total unique words after Removing less occuring Words :  760\n",
            "{'I': 219, \"don't\": 19, 'think': 10, 'be': 49, 'back': 26, 'to': 171, 'for': 72, 'food.': 13, 'Great': 15, 'the': 322, 'is': 128, 'The': 133, 'chicken': 12, 'dishes': 7, 'are': 51, 'like': 33, \"won't\": 13, 'going': 12, 'there': 17, 'even': 13, 'if': 13, \"it's\": 10, 'my': 38, 'at': 40, 'this': 77, 'was': 223, 'not': 77, 'so': 52, 'good.': 16, 'your': 15, 'time': 25, 'here.': 10, 'food': 56, 'getting': 7, 'and': 281, 'want': 11, 'all': 22, 'from': 16, 'i': 8, 'how': 9, 'could': 11, 'you': 41, 'being': 14, 'Best': 7, 'in': 77, 'our': 27, 'came': 13, 'This': 34, 'will': 19, 'recommend': 9, 'of': 100, 'it': 64, 'were': 49, 'still': 7, 'quite': 7, 'them': 10, 'out': 14, 'who': 7, 'can': 14, 'come': 9, 'they': 28, 'a': 168, 'but': 46, 'here': 28, 'know': 8, 'what': 12, 'about': 13, 'pizza': 8, 'good': 43, 'very': 47, 'place': 55, 'me': 7, 'little': 9, 'with': 55, 'we': 37, 'We': 27, 'ordered': 9, 'on': 39, 'nice': 14, 'had': 50, 'much': 14, \"wasn't\": 11, 'have': 46, 'say': 10, 'staff': 10, '-': 19, 'restaurant': 14, \"I've\": 16, 'been': 17, 'get': 14, 'salad': 7, 'just': 22, 'right': 7, 'which': 15, 'first': 12, \"can't\": 7, 'wait': 8, 'also': 17, 'place.': 15, 'when': 9, 'would': 22, 'only': 19, 'us': 12, 'that': 46, 'ever': 15, 'never': 14, 'their': 19, 'friendly': 13, 'service.': 10, 'excellent': 7, 'menu': 7, 'it.': 11, 'burger': 8, 'server': 10, 'go': 29, 'made': 10, 'up': 14, 'did': 15, 'because': 12, 'It': 18, 'absolutely': 7, 'an': 23, 'My': 17, 'service': 29, 'pretty': 12, 'feel': 8, 'some': 16, 'Food': 8, 'lunch': 7, 'back.': 14, \"I'm\": 16, '&': 9, 'great': 26, 'better': 7, 'love': 14, 'Not': 9, 'many': 7, 'They': 13, 'one': 15, 'or': 17, 'times': 10, 'got': 9, 'meat': 7, 'definitely': 11, 'eat': 14, 'any': 7, 'Service': 10, 'Vegas': 7, 'by': 16, 'again.': 14, 'he': 10, 'best': 11, 'night': 7, 'Very': 12, 'really': 23, 'worth': 8, 'coming': 8, 'no': 14, 'taste': 7, 'more': 13, 'than': 11, 'steak': 8, 'fresh': 7, \"didn't\": 9, 'too': 7, 'has': 11, 'bit': 7, 'experience.': 8, 'worst': 7, '5': 8, 'way': 7, 'as': 23, 'other': 11, 'do': 8, 'If': 13, 'food,': 9, 'bad': 8, 'fries': 7, 'went': 8, 'always': 9, 'said': 7}\n",
            "\n"
          ],
          "name": "stdout"
        }
      ]
    },
    {
      "cell_type": "code",
      "metadata": {
        "id": "3cUBj7SpV68x"
      },
      "source": [
        "Reviews_0_Train = Training_Dataset[y_Train == 0]\n",
        "Reviews_1_Train = Training_Dataset[y_Train == 1]"
      ],
      "execution_count": 1186,
      "outputs": []
    },
    {
      "cell_type": "code",
      "metadata": {
        "colab": {
          "base_uri": "https://localhost:8080/"
        },
        "id": "6dsvn-B8WOBM",
        "outputId": "9e08f855-c730-41e7-9e65-1f2f833d028c"
      },
      "source": [
        "print(\"Negative Reviews in Training Dataset Count : \", len((Reviews_0_Train)))"
      ],
      "execution_count": 1187,
      "outputs": [
        {
          "output_type": "stream",
          "text": [
            "Negative Reviews in Training Dataset Count :  373\n"
          ],
          "name": "stdout"
        }
      ]
    },
    {
      "cell_type": "code",
      "metadata": {
        "colab": {
          "base_uri": "https://localhost:8080/"
        },
        "id": "TBv6NOQfWbt1",
        "outputId": "b6ce32e8-ffd2-480e-8335-4dbf7fc86e07"
      },
      "source": [
        "print(\"Positive Reviews in Training Dataset Count : \", len((Reviews_1_Train)))"
      ],
      "execution_count": 1188,
      "outputs": [
        {
          "output_type": "stream",
          "text": [
            "Positive Reviews in Training Dataset Count :  387\n"
          ],
          "name": "stdout"
        }
      ]
    },
    {
      "cell_type": "markdown",
      "metadata": {
        "id": "J7RZK9MXWmcH"
      },
      "source": [
        "# **Making Directory**"
      ]
    },
    {
      "cell_type": "code",
      "metadata": {
        "id": "DH3KXLMpWib0"
      },
      "source": [
        "def Total_Words(Data, Count):\n",
        "  New_Directory = {}\n",
        "  for W in Count.keys():\n",
        "    Count1 = 0\n",
        "    for Reviews in Data:\n",
        "      if W in Reviews:\n",
        "        Count1 = Count1 + 1\n",
        "    New_Directory [W] = Count1\n",
        "  return New_Directory"
      ],
      "execution_count": 1189,
      "outputs": []
    },
    {
      "cell_type": "code",
      "metadata": {
        "colab": {
          "base_uri": "https://localhost:8080/"
        },
        "id": "RcISJHb9Xd0M",
        "outputId": "d3d17fec-e149-4204-d736-d3fc3def9648"
      },
      "source": [
        "Occur_Word = Total_Words(x_Train, Count)\n",
        "print(\"The count in dataset\", Occur_Word['the'])"
      ],
      "execution_count": 1190,
      "outputs": [
        {
          "output_type": "stream",
          "text": [
            "The count in dataset 298\n"
          ],
          "name": "stdout"
        }
      ]
    },
    {
      "cell_type": "markdown",
      "metadata": {
        "id": "bmNyamc1Yu7S"
      },
      "source": [
        "# **C) Finding Basic Probabilities**"
      ]
    },
    {
      "cell_type": "code",
      "metadata": {
        "id": "ZH016o1NXvLK"
      },
      "source": [
        "def basic_probability(y_Train):\n",
        "  Probability = {}\n",
        "  for a in np.unique(y_Train):\n",
        "    Count1 = sum(y_Train == a)\n",
        "    Probability[a] = Count1 / y_Train.size\n",
        "  return Probability"
      ],
      "execution_count": 1191,
      "outputs": []
    },
    {
      "cell_type": "code",
      "metadata": {
        "colab": {
          "base_uri": "https://localhost:8080/"
        },
        "id": "XfsKD4Y4ZeO-",
        "outputId": "ad156387-3ab9-4c9c-d4b1-37b1ecabafc0"
      },
      "source": [
        "Probability = basic_probability(y_Train)\n",
        "print(\"Negative probabiity\",Probability[0])\n",
        "print(\"Positive probability\",Probability[1])"
      ],
      "execution_count": 1192,
      "outputs": [
        {
          "output_type": "stream",
          "text": [
            "Negative probabiity 0.49078947368421055\n",
            "Positive probability 0.5092105263157894\n"
          ],
          "name": "stdout"
        }
      ]
    },
    {
      "cell_type": "markdown",
      "metadata": {
        "id": "z2cqLbt8aKjb"
      },
      "source": [
        "**# Probability of Occurance of word \"the\"**"
      ]
    },
    {
      "cell_type": "code",
      "metadata": {
        "id": "0IxyudnWZ5x6"
      },
      "source": [
        "def Probability_of_the_in_Dataset (Data,W):\n",
        "  Count1 = 0\n",
        "  if W not in Occur_Word.keys():\n",
        "    Count1 = 0\n",
        "  else:\n",
        "    Count1 = Occur_Word[W]\n",
        "  return Count1 / len(Data)\n"
      ],
      "execution_count": 1193,
      "outputs": []
    },
    {
      "cell_type": "code",
      "metadata": {
        "id": "LBuQvNQ-a0a6"
      },
      "source": [
        "The_Probability = Probability_of_the_in_Dataset(x_Train,'the')"
      ],
      "execution_count": 1194,
      "outputs": []
    },
    {
      "cell_type": "code",
      "metadata": {
        "colab": {
          "base_uri": "https://localhost:8080/"
        },
        "id": "Bw_waHQDbD4w",
        "outputId": "a6ef4556-37e1-4c61-ad5f-27a30dc14e62"
      },
      "source": [
        "print(\"Probability of the in dataset P[the]:\",The_Probability * 100)"
      ],
      "execution_count": 1195,
      "outputs": [
        {
          "output_type": "stream",
          "text": [
            "Probability of the in dataset P[the]: 39.21052631578947\n"
          ],
          "name": "stdout"
        }
      ]
    },
    {
      "cell_type": "markdown",
      "metadata": {
        "id": "UcwDZzXYJyXE"
      },
      "source": [
        "# **Conditional Probability based on the Sentiments**"
      ]
    },
    {
      "cell_type": "code",
      "metadata": {
        "id": "64UdAHDObRAx"
      },
      "source": [
        "def Positive_Words (Data, label, Count):\n",
        "  P_Words = {}\n",
        "  for W in Count.keys():\n",
        "    P = 0\n",
        "    for index, Reviews in enumerate(Data):\n",
        "      if W in Reviews.split() and label[index] == 1:\n",
        "        P = P + 1\n",
        "    P_Words[W] = P\n",
        "  return P_Words"
      ],
      "execution_count": 1196,
      "outputs": []
    },
    {
      "cell_type": "code",
      "metadata": {
        "id": "x6tUsGFgcQuL"
      },
      "source": [
        "def Negative_Words (Data, label, Count):\n",
        " N_Words = {}\n",
        " for W in Count.keys():\n",
        "    N = 0\n",
        "    for index, Reviews in enumerate(Data):\n",
        "      if W in Reviews.split() and label[index] == 0:\n",
        "        N = N + 1\n",
        "    N_Words[W] = N\n",
        " return N_Words"
      ],
      "execution_count": 1197,
      "outputs": []
    },
    {
      "cell_type": "code",
      "metadata": {
        "id": "OZ4KQLmicyz4"
      },
      "source": [
        "P_Words = Positive_Words(x_Train, y_Train, Count)\n",
        "N_Words = Negative_Words(x_Train, y_Train, Count)"
      ],
      "execution_count": 1198,
      "outputs": []
    },
    {
      "cell_type": "code",
      "metadata": {
        "colab": {
          "base_uri": "https://localhost:8080/"
        },
        "id": "kkoDbaHwdDJy",
        "outputId": "97fd598b-4be1-445b-dd1a-667aab6fe927"
      },
      "source": [
        "P_Words['the']"
      ],
      "execution_count": 1199,
      "outputs": [
        {
          "output_type": "execute_result",
          "data": {
            "text/plain": [
              "134"
            ]
          },
          "metadata": {
            "tags": []
          },
          "execution_count": 1199
        }
      ]
    },
    {
      "cell_type": "code",
      "metadata": {
        "colab": {
          "base_uri": "https://localhost:8080/"
        },
        "id": "81xzHiFHdVNB",
        "outputId": "9c1ebea4-f460-4381-c485-c8f3ab69a5ad"
      },
      "source": [
        "N_Words['the']"
      ],
      "execution_count": 1200,
      "outputs": [
        {
          "output_type": "execute_result",
          "data": {
            "text/plain": [
              "124"
            ]
          },
          "metadata": {
            "tags": []
          },
          "execution_count": 1200
        }
      ]
    },
    {
      "cell_type": "code",
      "metadata": {
        "id": "EPcTkY6WeBSP"
      },
      "source": [
        "def docu_positive (Data):\n",
        "  P_doc = 0\n",
        "  for i in range(len(Data)):\n",
        "    if (Data[i] == 1):\n",
        "      P_doc = P_doc + 1\n",
        "  return P_doc\n",
        "  "
      ],
      "execution_count": 1201,
      "outputs": []
    },
    {
      "cell_type": "code",
      "metadata": {
        "id": "Tzm5dkzbfuMv"
      },
      "source": [
        "def docu_negative (Data):\n",
        "  N_doc = 0\n",
        "  for i in range(len(Data)):\n",
        "    if (Data[i] == 0):\n",
        "      N_doc = N_doc + 1\n",
        "  return N_doc"
      ],
      "execution_count": 1202,
      "outputs": []
    },
    {
      "cell_type": "code",
      "metadata": {
        "id": "RQ5FMekWf4EV"
      },
      "source": [
        "def docu_count_positive_negative (Data, attribute):\n",
        "  if attribute == \"positive\":\n",
        "    C = docu_positive(Data)\n",
        "  else:\n",
        "    C = docu_negative(Data)\n",
        "  return C\n"
      ],
      "execution_count": 1203,
      "outputs": []
    },
    {
      "cell_type": "code",
      "metadata": {
        "id": "DjqRrK1IgeR4"
      },
      "source": [
        "P_doc = docu_count_positive_negative (y_Train, attribute= \"positive\")\n",
        "N_doc = docu_count_positive_negative (y_Train, attribute= \"negative\")\n"
      ],
      "execution_count": 1204,
      "outputs": []
    },
    {
      "cell_type": "code",
      "metadata": {
        "colab": {
          "base_uri": "https://localhost:8080/"
        },
        "id": "1RmfggBChRJo",
        "outputId": "53d91ecb-667c-45df-c239-bc718bd1bc62"
      },
      "source": [
        "print(P_doc)\n",
        "print(N_doc)"
      ],
      "execution_count": 1205,
      "outputs": [
        {
          "output_type": "stream",
          "text": [
            "387\n",
            "373\n"
          ],
          "name": "stdout"
        }
      ]
    },
    {
      "cell_type": "code",
      "metadata": {
        "id": "nP2LY7l2h8kE"
      },
      "source": [
        "def Number_Words_in_Doc(W, Count, attribute):\n",
        "  Count1 = 0\n",
        "  if attribute == \"positive\":\n",
        "    if W in P_Words.keys():\n",
        "      Count1 = P_Words[W]\n",
        "    else:\n",
        "      Count1 = 0\n",
        "\n",
        "  elif attribute == \"negative\":\n",
        "    if W in N_Words.keys():\n",
        "      Count1 = N_Words[W]\n",
        "    else:\n",
        "      Count1 = 0\n",
        "  return Count1 \n",
        "  "
      ],
      "execution_count": 1206,
      "outputs": []
    },
    {
      "cell_type": "code",
      "metadata": {
        "colab": {
          "base_uri": "https://localhost:8080/"
        },
        "id": "ePp-86-_ldeg",
        "outputId": "71bb3d91-1726-4980-a550-9e71b981b5d2"
      },
      "source": [
        "n = Number_Words_in_Doc('the', Count, attribute= \"positive\")\n",
        "m = n / P_doc\n",
        "print(\"p[the|positive]: \" +str(m*100)+\"%\")"
      ],
      "execution_count": 1207,
      "outputs": [
        {
          "output_type": "stream",
          "text": [
            "p[the|positive]: 34.62532299741602%\n"
          ],
          "name": "stdout"
        }
      ]
    },
    {
      "cell_type": "markdown",
      "metadata": {
        "id": "su32YnV8KoVc"
      },
      "source": [
        "# **D) Calulating Accuracy using the Development Dataset**"
      ]
    },
    {
      "cell_type": "code",
      "metadata": {
        "colab": {
          "base_uri": "https://localhost:8080/"
        },
        "id": "NqliqFPdi5ma",
        "outputId": "892aec1c-2fe3-44fd-8cc9-bb33b3a37560"
      },
      "source": [
        "#probability for p[positive|the] without NAIVE BAYES\n",
        "probability1 = (m*(P_doc/len(x_Train)))/ The_Probability\n",
        "print(\"Probability of given word in data\",probability1*100)  "
      ],
      "execution_count": 1208,
      "outputs": [
        {
          "output_type": "stream",
          "text": [
            "Probability of given word in data 44.96644295302013\n"
          ],
          "name": "stdout"
        }
      ]
    },
    {
      "cell_type": "code",
      "metadata": {
        "id": "rzZ5E0HrnnZ0"
      },
      "source": [
        "def Naive_Bayes (Data, label,W, Count, attribute):\n",
        "  n = Number_Words_in_Doc(W, Count, attribute)\n",
        "  D = Probability_of_the_in_Dataset(Data, W)\n",
        "  PN = docu_count_positive_negaive(label,attribute)\n",
        "  if D == 0:\n",
        "    D = 0.1\n",
        "  else:\n",
        "    D = D\n",
        "  Result = (n/PN)*(PN/len(Data))/D\n",
        "  return Result"
      ],
      "execution_count": 1209,
      "outputs": []
    },
    {
      "cell_type": "code",
      "metadata": {
        "id": "4sbWN8OwtPZu"
      },
      "source": [
        "def Naive_Bayes_Data (Data, label, Count, data1):\n",
        "  Prediction_P = 1\n",
        "  Prediction_N = 1\n",
        "\n",
        "  pred = []\n",
        "  for index, Reviews in enumerate(data1):\n",
        "    for W in Reviews.split(\" \"):\n",
        "      NB = Naive_Bayes(Data, label, W, Count, attribute= \"negative\")\n",
        "      if NB == 0:\n",
        "        NB = 0.1\n",
        "      else:\n",
        "        NB = NB \n",
        "      \n",
        "      Prediction_N = Prediction_N * NB \n",
        "\n",
        "\n",
        "      NB1 = Naive_Bayes(Data, label, W, Count, attribute= \"positive\")\n",
        "      if NB1 == 0:\n",
        "        NB1 = 0.1\n",
        "      else:\n",
        "        NB1 = NB1\n",
        "      \n",
        "      Prediction_P = Prediction_P * NB1 \n",
        "\n",
        "    if Prediction_P > Prediction_N:\n",
        "      pred.append(1)\n",
        "    else:\n",
        "      pred.append(0)\n",
        "\n",
        "  return pred"
      ],
      "execution_count": 1210,
      "outputs": []
    },
    {
      "cell_type": "code",
      "metadata": {
        "id": "bT0mPF-7v7T4"
      },
      "source": [
        "pred = Naive_Bayes_Data(x_Train,y_Train,Count,x_Dev)"
      ],
      "execution_count": 1211,
      "outputs": []
    },
    {
      "cell_type": "code",
      "metadata": {
        "id": "HuprxDozwuvZ"
      },
      "source": [
        "def Accuracy(label, Prediction):\n",
        "  pred1 = 0\n",
        "  for i in range(len(label)):\n",
        "    if(label[i]== Prediction[i]):\n",
        "      pred1 = pred1 + 1\n",
        "    Z = float(pred1/len(label))\n",
        "  return Z\n"
      ],
      "execution_count": 1212,
      "outputs": []
    },
    {
      "cell_type": "code",
      "metadata": {
        "colab": {
          "base_uri": "https://localhost:8080/"
        },
        "id": "fKnC8Yekx_ro",
        "outputId": "6cd066c5-d584-484b-e848-c7e7fb801297"
      },
      "source": [
        "Accuracy1 = Accuracy(y_Dev, pred)\n",
        "print(\"Accuracy Without Smoothing Data: \"+str(Accuracy1*100)+\"%\")"
      ],
      "execution_count": 1213,
      "outputs": [
        {
          "output_type": "stream",
          "text": [
            "Accuracy Without Smoothing Data: 52.5%\n"
          ],
          "name": "stdout"
        }
      ]
    },
    {
      "cell_type": "markdown",
      "metadata": {
        "id": "Xrpy-rtEKtgx"
      },
      "source": [
        "# **E) Comparing the effect of Smoothing**"
      ]
    },
    {
      "cell_type": "markdown",
      "metadata": {
        "id": "aJmLAoRbzFrJ"
      },
      "source": [
        "# DATA Smoothing"
      ]
    },
    {
      "cell_type": "code",
      "metadata": {
        "id": "DZRdOi-vzJU6"
      },
      "source": [
        "def Naive_Bayes_Smooth(Data, label, W,Count, attribute):\n",
        "    n = Number_Words_in_Doc(W, Count, attribute)\n",
        "    D = Probability_of_the_in_Dataset(Data, W)\n",
        "    PN = docu_count_positive_negaive(label,attribute)\n",
        "    if D == 0:\n",
        "        D = 0.1\n",
        "    else:\n",
        "        D = D\n",
        "    Result = (((n/PN)*(PN/len(Data)))+1)/(D+2)\n",
        "    return Result\n",
        "def Naive_Bayes_for_Smoothing_data(Data,label,Count,data1):\n",
        "    Prediction_P = 1\n",
        "    Prediction_N = 1\n",
        "    pred = []\n",
        "    for index,Reviews in enumerate(data1):\n",
        "        for W in Reviews.split(\" \"):\n",
        "            NB = Naive_Bayes_Smooth(Data, label, W,Count, attribute = \"negative\")\n",
        "            if NB == 0:\n",
        "                NB = 0.1\n",
        "            else:\n",
        "                NB = NB \n",
        "            Prediction_N = Prediction_N * NB \n",
        "            #print(\"n\",negative_pred)\n",
        "            NB1 = Naive_Bayes_Smooth(Data, label, W,Count, attribute = \"positive\")\n",
        "            if NB1 == 0:\n",
        "                NB1 = 0.1\n",
        "            else:\n",
        "                NB1 = NB1\n",
        "            Prediction_P = Prediction_P * NB1\n",
        "            #print(\"p\",positive_pred)\n",
        "        if Prediction_P > Prediction_N:\n",
        "            pred.append(1)\n",
        "        else:\n",
        "            pred.append(0)\n",
        "    return pred"
      ],
      "execution_count": 1214,
      "outputs": []
    },
    {
      "cell_type": "code",
      "metadata": {
        "id": "G2-yT0ju3gds"
      },
      "source": [
        "pred = Naive_Bayes_for_Smoothing_data(x_Train,y_Train, Count, x_Dev)"
      ],
      "execution_count": 1215,
      "outputs": []
    },
    {
      "cell_type": "code",
      "metadata": {
        "colab": {
          "base_uri": "https://localhost:8080/"
        },
        "id": "YfvgJOKQ37rs",
        "outputId": "9a997b1f-22cc-4213-f436-daf141c91150"
      },
      "source": [
        "Accuracy1 = Accuracy(y_Dev, pred)\n",
        "print(\"Accuracy Without Smoothing Data: \"+str(Accuracy1*100)+\"%\")"
      ],
      "execution_count": 1216,
      "outputs": [
        {
          "output_type": "stream",
          "text": [
            "Accuracy Without Smoothing Data: 53.75%\n"
          ],
          "name": "stdout"
        }
      ]
    },
    {
      "cell_type": "markdown",
      "metadata": {
        "id": "RZp-mpnTK0XD"
      },
      "source": [
        "# **Derive Top ten words that predicts Positive and Negative class**"
      ]
    },
    {
      "cell_type": "code",
      "metadata": {
        "id": "tkpjNepZ4S1N"
      },
      "source": [
        "import operator, itertools\n",
        "Positive_top = {}\n",
        "for W in Count.keys():\n",
        "  Z = Naive_Bayes(x_Train, y_Train, W, Count, attribute= \"positive\")\n",
        "  Positive_top[W] = Z\n",
        "\n",
        "top_reversed = dict(sorted(Positive_top.items(), key= operator.itemgetter(1),reverse=True))\n",
        "Top_ten_Positive = dict(itertools.islice(top_reversed.items(), 10))"
      ],
      "execution_count": 1217,
      "outputs": []
    },
    {
      "cell_type": "code",
      "metadata": {
        "colab": {
          "base_uri": "https://localhost:8080/"
        },
        "id": "TSyaBWzO7XFS",
        "outputId": "6b42d64f-a2ad-423b-f683-5b02b3b50236"
      },
      "source": [
        "print(\"Top Ten Words that Predict the Positive :\",Top_ten_Positive.keys())"
      ],
      "execution_count": 1218,
      "outputs": [
        {
          "output_type": "stream",
          "text": [
            "Top Ten Words that Predict the Positive : dict_keys(['Great', 'excellent', 'great', 'nice', 'best', 'Best', 'quite', 'menu', 'Vegas', 'fresh'])\n"
          ],
          "name": "stdout"
        }
      ]
    },
    {
      "cell_type": "code",
      "metadata": {
        "id": "6avgEpro_66J"
      },
      "source": [
        "Negative_top = {}\n",
        "for W in Count.keys():\n",
        "  Z = Naive_Bayes(x_Train, y_Train, W, Count, attribute= \"negative\")\n",
        "  Negative_top[W] = Z\n",
        "\n",
        "top_reversed = dict(sorted(Negative_top.items(), key= operator.itemgetter(1),reverse=True))\n",
        "Top_ten_Negative = dict(itertools.islice(top_reversed.items(), 10))"
      ],
      "execution_count": 1219,
      "outputs": []
    },
    {
      "cell_type": "code",
      "metadata": {
        "colab": {
          "base_uri": "https://localhost:8080/"
        },
        "id": "ek2F1O5KAe9M",
        "outputId": "866cb909-82e3-4f8d-ea9a-a0dbda435a6d"
      },
      "source": [
        "print(\"Top Ten Words that Predict the Negative :\",Top_ten_Negative.keys())"
      ],
      "execution_count": 1220,
      "outputs": [
        {
          "output_type": "stream",
          "text": [
            "Top Ten Words that Predict the Negative : dict_keys([\"wasn't\", 'bad', 'being', 'much', 'got', 'coming', 'getting', 'never', 'better', 'too'])\n"
          ],
          "name": "stdout"
        }
      ]
    },
    {
      "cell_type": "markdown",
      "metadata": {
        "id": "TbIhXVYGLAr5"
      },
      "source": [
        "# **F) Using the Test Dataset and calulating the Final Accuracy**"
      ]
    },
    {
      "cell_type": "code",
      "metadata": {
        "id": "RGH0edD6AxdJ"
      },
      "source": [
        "S = Data.sample(frac=1).to_numpy()\n"
      ],
      "execution_count": 1221,
      "outputs": []
    },
    {
      "cell_type": "markdown",
      "metadata": {
        "id": "e8gsWBPFC2HP"
      },
      "source": [
        "# **Shuffling the data to get the Random Values in Training set and Development set**"
      ]
    },
    {
      "cell_type": "code",
      "metadata": {
        "colab": {
          "base_uri": "https://localhost:8080/"
        },
        "id": "wAxQ910sDKby",
        "outputId": "349e9d21-8d57-4f8b-9dbb-7328a5abec3c"
      },
      "source": [
        "size = int(0.24*len(Data))\n",
        "Test = S[:size]\n",
        "print(\"Size of the Test set is : \",len(Test))\n",
        "print(\"Shape of the Test set is : \",{Test.shape})"
      ],
      "execution_count": 1222,
      "outputs": [
        {
          "output_type": "stream",
          "text": [
            "Size of the Test set is :  240\n",
            "Shape of the Test set is :  {(240, 2)}\n"
          ],
          "name": "stdout"
        }
      ]
    },
    {
      "cell_type": "code",
      "metadata": {
        "id": "pTjzUliREd8g"
      },
      "source": [
        "x_Test = Test[:,0]\n",
        "y_Test = Test[:,-1]\n",
        "\n"
      ],
      "execution_count": 1223,
      "outputs": []
    },
    {
      "cell_type": "markdown",
      "metadata": {
        "id": "LiZOfhDLFsAZ"
      },
      "source": [
        "## Accuracies Without and With Smoothing"
      ]
    },
    {
      "cell_type": "markdown",
      "metadata": {
        "id": "gWWE5UMAF4_K"
      },
      "source": [
        "# Accuracy Without Smoothing"
      ]
    },
    {
      "cell_type": "code",
      "metadata": {
        "id": "i7iZ7u3xFc2V"
      },
      "source": [
        "pred = Naive_Bayes_Data(x_Train, y_Train,Count, x_Test)"
      ],
      "execution_count": 1224,
      "outputs": []
    },
    {
      "cell_type": "code",
      "metadata": {
        "colab": {
          "base_uri": "https://localhost:8080/"
        },
        "id": "HW1rY5s-GhZN",
        "outputId": "7c1a65a9-b76b-4941-83a3-47bc5975e2f3"
      },
      "source": [
        "Accuracy1 = Accuracy(y_Test,pred)\n",
        "print(\"Accuracy of the Data without Smoothing :\"+str(Accuracy1*100)+\"%\")"
      ],
      "execution_count": 1225,
      "outputs": [
        {
          "output_type": "stream",
          "text": [
            "Accuracy of the Data without Smoothing :49.583333333333336%\n"
          ],
          "name": "stdout"
        }
      ]
    },
    {
      "cell_type": "markdown",
      "metadata": {
        "id": "BsAhZrQlHUxt"
      },
      "source": [
        "# Accuracy after Smoothing"
      ]
    },
    {
      "cell_type": "code",
      "metadata": {
        "id": "ABhO9pPEHZHg"
      },
      "source": [
        "pred = Naive_Bayes_for_Smoothing_data(x_Train, y_Train,Count, x_Test)\n",
        "\n"
      ],
      "execution_count": 1226,
      "outputs": []
    },
    {
      "cell_type": "code",
      "metadata": {
        "colab": {
          "base_uri": "https://localhost:8080/"
        },
        "id": "9CXXzVsmHoHD",
        "outputId": "0ae4c2ab-b0ce-4e53-a322-0cbe67f33828"
      },
      "source": [
        "Accuracy1 = Accuracy(y_Test,pred)\n",
        "print(\"Accuracy of the Data with Smoothing :\"+str(Accuracy1*100)+\"%\")\n"
      ],
      "execution_count": 1227,
      "outputs": [
        {
          "output_type": "stream",
          "text": [
            "Accuracy of the Data with Smoothing :52.916666666666664%\n"
          ],
          "name": "stdout"
        }
      ]
    },
    {
      "cell_type": "markdown",
      "metadata": {
        "id": "BLzpMl1zg8fl"
      },
      "source": [
        "# *** The Accuracy of the yelp Dataset is increased after applying the Smoothing Method***"
      ]
    },
    {
      "cell_type": "markdown",
      "metadata": {
        "id": "XMHVdMzKhMMC"
      },
      "source": [
        "# **References:**"
      ]
    },
    {
      "cell_type": "markdown",
      "metadata": {
        "id": "Q55edyGWh0m5"
      },
      "source": [
        "https://chrisalbon.com/machine_learning/naive_bayes/naive_bayes_classifier_from_scratch/</br>\n",
        "https://www.kaggle.com/omkarsabnis/sentiment-analysis-on-the-yelp-reviews-dataset</br>\n",
        "https://pynative.com/python-random-shuffle/</br>\n",
        "https://levelup.gitconnected.com/movie-review-sentiment-analysis-with-naive-bayes-machine-learning-from-scratch-part-v-7bb869391bab</br>\n",
        "https://www.kaggle.com/athoul01/predicting-yelp-ratings-from-review-text</br>\n",
        "https://urytrayudu1.medium.com/sentiment-analysis-for-yelp-review-classification-54b65c09ff7b</br>\n"
      ]
    }
  ]
}